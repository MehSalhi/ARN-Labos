{
 "cells": [
  {
   "cell_type": "markdown",
   "metadata": {},
   "source": [
    "# Model selection\n",
    "The topology of an artificial neural network has to be optimized to obtain the model wich generalizes the best. This notebook is an introduction to the process of model selection. During this laboratory, you will be able to learn how to use the tools for empirically finding the best topology of an artificial neural network and the parameters of the learning algorithm."
   ]
  },
  {
   "cell_type": "markdown",
   "metadata": {},
   "source": [
    "## Loading the packages"
   ]
  },
  {
   "cell_type": "code",
   "execution_count": 1,
   "metadata": {},
   "outputs": [],
   "source": [
    "import numpy as np\n",
    "import matplotlib.pyplot as pl\n",
    "import sys\n",
    "from ipywidgets import interact, widgets\n",
    "\n",
    "%matplotlib inline"
   ]
  },
  {
   "cell_type": "markdown",
   "metadata": {},
   "source": [
    "## The dataset\n",
    "This function creates a dataset with two classes in two dimensions. It has two parameters: the size of the dataset and the spread of each one of the classes. A high spread value makes both classes to superpose, making the classification more difficult."
   ]
  },
  {
   "cell_type": "code",
   "execution_count": 2,
   "metadata": {},
   "outputs": [],
   "source": [
    "def create_dataset(n, s):\n",
    "    n1 = int(np.ceil(n / 2.0))\n",
    "    n2 = int(np.floor(n / 2.0))\n",
    "    x1 = np.random.normal(-1, s, n1)\n",
    "    y1 = np.random.uniform(-1, 1,  n1)\n",
    "    x2 = np.random.normal(1, s, n2)\n",
    "    y2 = np.random.uniform(-1, 1, n2)\n",
    "    return np.stack((np.concatenate((x1, x2)), np.concatenate((y1, y2)), np.concatenate((np.ones(n1), -1*np.ones(n2)))), 1)"
   ]
  },
  {
   "cell_type": "code",
   "execution_count": 3,
   "metadata": {},
   "outputs": [],
   "source": [
    "def plot_dataset(s):\n",
    "    dataset = create_dataset(200, s)\n",
    "    pl.scatter(dataset[:,0], dataset[:,1], c=[(['b', 'r'])[int(cl > 0)] for cl in dataset[:,2]])\n",
    "    pl.xlim(-3,3)\n",
    "    pl.ylim(-1,1)\n",
    "    pl.grid()"
   ]
  },
  {
   "cell_type": "code",
   "execution_count": 4,
   "metadata": {
    "scrolled": true
   },
   "outputs": [
    {
     "data": {
      "application/vnd.jupyter.widget-view+json": {
       "model_id": "46d96663540f40ac9a96389e27854294",
       "version_major": 2,
       "version_minor": 0
      },
      "text/plain": [
       "interactive(children=(FloatSlider(value=0.1, description='Spread:', max=1.0, min=0.1, step=0.01), Output()), _…"
      ]
     },
     "metadata": {},
     "output_type": "display_data"
    }
   ],
   "source": [
    "interact(plot_dataset, s=widgets.FloatSlider(value=0.1, min=0.1, max=1.0, step=0.01, description='Spread:',));"
   ]
  },
  {
   "cell_type": "markdown",
   "metadata": {},
   "source": [
    "## The MLP\n",
    "Import the code of the backpropagation with momentum algorithm"
   ]
  },
  {
   "cell_type": "code",
   "execution_count": 5,
   "metadata": {},
   "outputs": [],
   "source": [
    "import mlp_backprop_momentum as mlp"
   ]
  },
  {
   "cell_type": "markdown",
   "metadata": {},
   "source": [
    "## Cross-validation\n",
    "Import the code of the cross-valdidation test"
   ]
  },
  {
   "cell_type": "code",
   "execution_count": 6,
   "metadata": {},
   "outputs": [],
   "source": [
    "import k_fold_cross_validation as cv"
   ]
  },
  {
   "cell_type": "markdown",
   "metadata": {},
   "source": [
    "## Dataset\n",
    "Create a dataset to perform the test"
   ]
  },
  {
   "cell_type": "code",
   "execution_count": 7,
   "metadata": {},
   "outputs": [
    {
     "data": {
      "text/plain": [
       "\"\\npl.scatter(dataset[:,0], dataset[:,1], c=[(['b', 'r'])[int(cl > 0)] for cl in dataset[:,2]])\\npl.xlim(-3,3)\\npl.ylim(-1,1)\\npl.grid()\\n\""
      ]
     },
     "execution_count": 7,
     "metadata": {},
     "output_type": "execute_result"
    }
   ],
   "source": [
    "# DATASET_SIZE = 200\n",
    "# SPREAD = 0.7\n",
    "# dataset = create_dataset(DATASET_SIZE, SPREAD)\n",
    "\n",
    "# Load the vowel dataset\n",
    "import numpy as np\n",
    "from python_speech_features import mfcc\n",
    "from matplotlib import pyplot as pl\n",
    "import os\n",
    "import scipy.io.wavfile as wav\n",
    "PATH = '../vowels'\n",
    "import glob\n",
    "\n",
    "\n",
    "nam_paths = glob.glob(os.path.join(PATH, 'nam*.wav'))\n",
    "naf_paths = glob.glob(os.path.join(PATH, 'naf*.wav'))\n",
    "nk_paths = glob.glob(os.path.join(PATH, 'nk*.wav'))\n",
    "\n",
    "naf_audios = [wav.read(path) for path in naf_paths]\n",
    "nam_audios = [wav.read(path) for path in nam_paths]\n",
    "nk_audios = [wav.read(path) for path in nk_paths]\n",
    "\n",
    "# creates an array with all the mfccs of all samples\n",
    "\n",
    "nafMfccList = [mfcc(i[1], samplerate=i[0], nfft=1024) for i in naf_audios]\n",
    "namMfccList = [mfcc(i[1], samplerate=i[0], nfft=1024) for i in nam_audios]\n",
    "nkMfccList = [mfcc(i[1], samplerate=i[0], nfft=1024) for i in nk_audios]\n",
    "\n",
    "# normalization functions\n",
    "def norm_0_1(data):\n",
    "    min = np.min(data)\n",
    "    max = np.max(data)\n",
    "    for i in range(len(data)):\n",
    "        for j in range(13):\n",
    "            data[i, j] = (data[i, j] - min)/(max - min)\n",
    "    return data\n",
    "\n",
    "def norm_min_1_plus_1(data):\n",
    "    min = np.min(data)\n",
    "    max = np.max(data)\n",
    "    for i in range(len(data)):\n",
    "        for j in range(13):\n",
    "            data[i, j] = (2*(data[i, j] - min)/(max - min))-1\n",
    "    return data\n",
    "    \n",
    "\n",
    "# computes the median of each mfcc\n",
    "naf_mfcc_median = np.array([np.median(j, 0) for j in nafMfccList])\n",
    "nam_mfcc_median = np.array([np.median(j, 0) for j in namMfccList])\n",
    "nk_mfcc_median = np.array([np.median(j, 0) for j in nkMfccList])\n",
    "\n",
    "# normalization\n",
    "naf_mfcc_median = norm_min_1_plus_1(naf_mfcc_median)\n",
    "nam_mfcc_median = norm_min_1_plus_1(naf_mfcc_median)\n",
    "nk_mfcc_median = norm_min_1_plus_1(nk_mfcc_median)\n",
    "\n",
    "\"\"\"\n",
    "pl.scatter(dataset[:,0], dataset[:,1], c=[(['b', 'r'])[int(cl > 0)] for cl in dataset[:,2]])\n",
    "pl.xlim(-3,3)\n",
    "pl.ylim(-1,1)\n",
    "pl.grid()\n",
    "\"\"\"\n",
    "\n"
   ]
  },
  {
   "cell_type": "code",
   "execution_count": 8,
   "metadata": {},
   "outputs": [
    {
     "data": {
      "text/plain": [
       "(36, 13)"
      ]
     },
     "execution_count": 8,
     "metadata": {},
     "output_type": "execute_result"
    }
   ],
   "source": [
    "naf_mfcc_median.shape\n"
   ]
  },
  {
   "cell_type": "code",
   "execution_count": 9,
   "metadata": {},
   "outputs": [
    {
     "data": {
      "text/plain": [
       "(36, 13)"
      ]
     },
     "execution_count": 9,
     "metadata": {},
     "output_type": "execute_result"
    }
   ],
   "source": [
    "nam_mfcc_median.shape\n"
   ]
  },
  {
   "cell_type": "code",
   "execution_count": 10,
   "metadata": {},
   "outputs": [
    {
     "data": {
      "text/plain": [
       "(108, 13)"
      ]
     },
     "execution_count": 10,
     "metadata": {},
     "output_type": "execute_result"
    }
   ],
   "source": [
    "nk_mfcc_median.shape"
   ]
  },
  {
   "cell_type": "code",
   "execution_count": 11,
   "metadata": {},
   "outputs": [
    {
     "data": {
      "image/png": "[encoded data removed]",
      "text/plain": [
       "<Figure size 1080x288 with 3 Axes>"
      ]
     },
     "metadata": {
      "needs_background": "light"
     },
     "output_type": "display_data"
    }
   ],
   "source": [
    "# Boxplot of the 3 medians of the MFCCs\n",
    "\n",
    "f, (ax1, ax2, ax3) = pl.subplots(1,3, sharey='all', figsize=(15,4))\n",
    "ax1.plot()\n",
    "ax1.boxplot(naf_mfcc_median)\n",
    "ax1.set_title('Natural Female')\n",
    "ax1.grid()\n",
    "ax2.boxplot(nam_mfcc_median)\n",
    "ax2.set_title('Natural Male')\n",
    "ax2.grid()\n",
    "ax3.boxplot(nk_mfcc_median)\n",
    "ax3.set_title('Natural Kids')\n",
    "ax3.grid()"
   ]
  },
  {
   "cell_type": "code",
   "execution_count": 12,
   "metadata": {},
   "outputs": [
    {
     "name": "stdout",
     "output_type": "stream",
     "text": [
      "(72, 13)\n",
      "[[ 5.31827402e-01  1.91337287e-01 -1.62678975e-01 ... -7.22170543e-02\n",
      "  -3.91770053e-01  0.00000000e+00]\n",
      " [ 5.40132669e-01  2.63973428e-01 -1.78886465e-01 ...  3.02610852e-01\n",
      "   2.40688347e-02  0.00000000e+00]\n",
      " [ 5.11582582e-01  9.42910704e-02  1.06184217e-01 ...  4.06601538e-02\n",
      "  -2.40895588e-01  0.00000000e+00]\n",
      " ...\n",
      " [ 5.33939742e-01 -8.56195530e-04  1.29763632e-01 ...  1.88252851e-02\n",
      "   3.80992744e-01  1.00000000e+00]\n",
      " [ 5.39494131e-01  6.95215985e-03  3.18062782e-01 ...  5.11856884e-03\n",
      "   5.04913892e-02  0.00000000e+00]\n",
      " [ 5.52780398e-01  3.78482131e-01 -1.29438982e-01 ... -1.74981793e-01\n",
      "  -1.70154932e-02  1.00000000e+00]]\n",
      "[0 0 0 0 1 0 1 1 0 0 0 0 0 0 0 0 1 1 1 1 0 0 1 0 1 0 0 0 1 0 0 1 1 1 0 0 0\n",
      " 0 1 1 1 1 1 0 1 1 1 1 0 0 1 1 1 1 0 0 0 0 0 1 1 1 1 1 0 1 1 0 1 1 0 1]\n"
     ]
    }
   ],
   "source": [
    "# Concatenation of male, female, kids\n",
    "\n",
    "mfccs = np.concatenate((\n",
    "    nam_mfcc_median,\n",
    "    naf_mfcc_median#,\n",
    "    #nk_mfcc_median\n",
    "))\n",
    "\n",
    "print(mfccs.shape)\n",
    "\n",
    "classes = np.concatenate(\n",
    "    (\n",
    "        np.repeat(0, len(nam_mfcc_median)),\n",
    "        np.repeat(1, len(naf_mfcc_median))#,\n",
    "       # np.repeat(2, len(nk_mfcc_median))\n",
    "    )\n",
    ")\n",
    "\n",
    "\n",
    "\n",
    "# randomize order\n",
    "random_order = np.random.permutation(mfccs.shape[0])\n",
    "\n",
    "mfccs = mfccs[random_order]\n",
    "classes = classes[random_order]\n",
    "\n",
    "dataset = np.insert(mfccs, 13, classes, axis=1)\n",
    "\n",
    "print(dataset)\n",
    "print(classes)"
   ]
  },
  {
   "cell_type": "code",
   "execution_count": 13,
   "metadata": {},
   "outputs": [
    {
     "name": "stdout",
     "output_type": "stream",
     "text": [
      "[[ 5.31827402e-01  1.91337287e-01 -1.62678975e-01 ... -7.22170543e-02\n",
      "  -3.91770053e-01  0.00000000e+00]\n",
      " [ 5.40132669e-01  2.63973428e-01 -1.78886465e-01 ...  3.02610852e-01\n",
      "   2.40688347e-02  0.00000000e+00]\n",
      " [ 5.11582582e-01  9.42910704e-02  1.06184217e-01 ...  4.06601538e-02\n",
      "  -2.40895588e-01  0.00000000e+00]\n",
      " ...\n",
      " [ 5.33939742e-01 -8.56195530e-04  1.29763632e-01 ...  1.88252851e-02\n",
      "   3.80992744e-01  1.00000000e+00]\n",
      " [ 5.39494131e-01  6.95215985e-03  3.18062782e-01 ...  5.11856884e-03\n",
      "   5.04913892e-02  0.00000000e+00]\n",
      " [ 5.52780398e-01  3.78482131e-01 -1.29438982e-01 ... -1.74981793e-01\n",
      "  -1.70154932e-02  1.00000000e+00]]\n"
     ]
    }
   ],
   "source": [
    "print(dataset)"
   ]
  },
  {
   "cell_type": "markdown",
   "metadata": {},
   "source": [
    "## Exploring the number of epochs\n",
    "Let's first try to estimate how many iterations of the backpropagation algorithm are enough to find a low training error. We fixed the learning rate to `0.001` and the momentum term to `0.5`. These values are just initial guesses which work well in most of the cases. Feel free to change these values if:\n",
    "\n",
    "+ the error curve oscillates -> reduce the learning rate\n",
    "+ the error curve is very smooth and does not change -> increase the learning rate\n",
    "+ the model does not converge -> try different values of momentum\n",
    "\n",
    "This initial test is performed by only tracking the training error. Hence, it is impossible to know if the model overfits or not. We will only know if the model's complexity is enough for learning the task.\n",
    "\n",
    "The following snippet also changes the number of hidden neurons from the simplest model possible (2 neurons) to a model having a complexity you think is excesive. Model selection in artificial neural networks is based on the experience. Moreover, notice that the MLPs are initialized several times to avoid a too bad result due to an unlucky initialization."
   ]
  },
  {
   "cell_type": "code",
   "execution_count": 22,
   "metadata": {},
   "outputs": [],
   "source": [
    "N_INITS = 10\n",
    "EPOCHS = 50\n",
    "N_NEURONS = [2, 4, 8, 16, 32]\n",
    "LEARNING_RATE = 0.001\n",
    "MOMENTUM = 0.2"
   ]
  },
  {
   "cell_type": "code",
   "execution_count": 23,
   "metadata": {},
   "outputs": [
    {
     "name": "stdout",
     "output_type": "stream",
     "text": [
      "Testing 2 neurons...\n",
      "Testing 4 neurons...\n",
      "Testing 8 neurons...\n",
      "Testing 16 neurons...\n",
      "Testing 32 neurons...\n"
     ]
    }
   ],
   "source": [
    "MSE = np.zeros((len(N_NEURONS), N_INITS, EPOCHS))\n",
    "\n",
    "for i_h, h in enumerate(N_NEURONS):                                     # looping over the number of hidden neurons\n",
    "    print('Testing', h, 'neurons...')\n",
    "    nn = mlp.MLP([13,h,1], 'tanh')\n",
    "    for i in np.arange(N_INITS):                                        # looping over the initializations\n",
    "        nn.init_weights()\n",
    "        \n",
    "        MSE[i_h, i, :] = nn.fit((dataset[:,0:13], dataset[:,13:14]),\n",
    "                                learning_rate=LEARNING_RATE,\n",
    "                                momentum=MOMENTUM,\n",
    "                                epochs=EPOCHS)"
   ]
  },
  {
   "cell_type": "code",
   "execution_count": 24,
   "metadata": {},
   "outputs": [
    {
     "data": {
      "image/png": "[encoded data removed]",
      "text/plain": [
       "<Figure size 1080x288 with 5 Axes>"
      ]
     },
     "metadata": {
      "needs_background": "light"
     },
     "output_type": "display_data"
    }
   ],
   "source": [
    "pl.figure(figsize=(15,4))\n",
    "p_count = 0\n",
    "for n in np.arange(MSE.shape[0]):\n",
    "    pl.subplot(1, MSE.shape[0], n+1)\n",
    "    for i in np.arange(MSE.shape[1]):\n",
    "        pl.plot(MSE[n,i,:], c='b')\n",
    "    pl.ylim(0,1)\n",
    "    pl.xlabel('Epochs')\n",
    "    pl.ylabel('MSE')\n",
    "    pl.title(str(N_NEURONS[n]) + ' neurons')\n",
    "    pl.grid()\n",
    "pl.tight_layout()"
   ]
  },
  {
   "cell_type": "markdown",
   "metadata": {},
   "source": [
    "In every case, from 2 to 32 neurons in the hidden layer, the training error does not improve anymore after 50 iterations. The result of this test indicates that the minimum number of iterations needed are around 20 iterations (Taking into account only the training error!)."
   ]
  },
  {
   "cell_type": "markdown",
   "metadata": {},
   "source": [
    "## Exploring the number of hidden neurons\n",
    "Knowing that there are no significant improvements after 50 iterations, we can now further explore how the complexity of the model (number of hidden neurons) is linked to the generalization performance (test error). The following snippet allows you to explore both the number of epochs and the number of hidden neurons without restarting the training."
   ]
  },
  {
   "cell_type": "code",
   "execution_count": 17,
   "metadata": {},
   "outputs": [],
   "source": [
    "EPOCHS = 800\n",
    "K = 5\n",
    "N_TESTS = 10\n",
    "N_NEURONS = [2]#, 4, 6, 8, 10, 15, 20, 25, 30]"
   ]
  },
  {
   "cell_type": "code",
   "execution_count": 18,
   "metadata": {},
   "outputs": [
    {
     "name": "stdout",
     "output_type": "stream",
     "text": [
      "Testing 2 neurons...\n"
     ]
    },
    {
     "ename": "KeyboardInterrupt",
     "evalue": "",
     "output_type": "error",
     "traceback": [
      "\u001b[0;31m---------------------------------------------------------------------------\u001b[0m",
      "\u001b[0;31mKeyboardInterrupt\u001b[0m                         Traceback (most recent call last)",
      "Input \u001b[0;32mIn [18]\u001b[0m, in \u001b[0;36m<cell line: 4>\u001b[0;34m()\u001b[0m\n\u001b[1;32m      7\u001b[0m \u001b[38;5;28;01mfor\u001b[39;00m i \u001b[38;5;129;01min\u001b[39;00m np\u001b[38;5;241m.\u001b[39marange(N_TESTS):                                        \u001b[38;5;66;03m# looping the tests\u001b[39;00m\n\u001b[1;32m      8\u001b[0m     nn\u001b[38;5;241m.\u001b[39minit_weights()                                               \u001b[38;5;66;03m# the network has to be reinitialized before each test\u001b[39;00m\n\u001b[0;32m----> 9\u001b[0m     temp1, temp2 \u001b[38;5;241m=\u001b[39m \u001b[43mcv\u001b[49m\u001b[38;5;241;43m.\u001b[39;49m\u001b[43mk_fold_cross_validation_per_epoch\u001b[49m\u001b[43m(\u001b[49m\u001b[43mnn\u001b[49m\u001b[43m,\u001b[49m\u001b[43m         \u001b[49m\u001b[38;5;66;43;03m# notice that we do not use cv.k_fold_cross_validation\u001b[39;49;00m\n\u001b[1;32m     10\u001b[0m \u001b[43m                                                        \u001b[49m\u001b[43mdataset\u001b[49m\u001b[43m,\u001b[49m\u001b[43m    \u001b[49m\u001b[38;5;66;43;03m# but cv.k_fold_cross_validation_per_epoch which\u001b[39;49;00m\n\u001b[1;32m     11\u001b[0m \u001b[43m                                                        \u001b[49m\u001b[43mk\u001b[49m\u001b[38;5;241;43m=\u001b[39;49m\u001b[43mK\u001b[49m\u001b[43m,\u001b[49m\u001b[43m        \u001b[49m\u001b[38;5;66;43;03m# returns a value of error per each epoch\u001b[39;49;00m\n\u001b[1;32m     12\u001b[0m \u001b[43m                                                        \u001b[49m\u001b[43mlearning_rate\u001b[49m\u001b[38;5;241;43m=\u001b[39;49m\u001b[43mLEARNING_RATE\u001b[49m\u001b[43m,\u001b[49m\n\u001b[1;32m     13\u001b[0m \u001b[43m                                                        \u001b[49m\u001b[43mmomentum\u001b[49m\u001b[38;5;241;43m=\u001b[39;49m\u001b[43mMOMENTUM\u001b[49m\u001b[43m,\u001b[49m\n\u001b[1;32m     14\u001b[0m \u001b[43m                                                        \u001b[49m\u001b[43mepochs\u001b[49m\u001b[38;5;241;43m=\u001b[39;49m\u001b[43mEPOCHS\u001b[49m\u001b[43m)\u001b[49m\n\u001b[1;32m     15\u001b[0m     \u001b[38;5;66;03m# temp1 and temp2 are the training and test error. One value per epoch\u001b[39;00m\n\u001b[1;32m     16\u001b[0m     MSE_train[i_h, :, i] \u001b[38;5;241m=\u001b[39m temp1\n",
      "File \u001b[0;32m~/Documents/HEIG/Cours/ARN/Labos/Labo3/ARN-Labo03/notebooks/k_fold_cross_validation.py:103\u001b[0m, in \u001b[0;36mk_fold_cross_validation_per_epoch\u001b[0;34m(mlp, dataset, k, learning_rate, momentum, epochs)\u001b[0m\n\u001b[1;32m    100\u001b[0m     input_data_test \u001b[38;5;241m=\u001b[39m dataset_test[:,\u001b[38;5;241m0\u001b[39m:mlp\u001b[38;5;241m.\u001b[39mn_inputs]\n\u001b[1;32m    101\u001b[0m     output_data_test \u001b[38;5;241m=\u001b[39m dataset_test[:,mlp\u001b[38;5;241m.\u001b[39mn_inputs:(mlp\u001b[38;5;241m.\u001b[39mn_inputs\u001b[38;5;241m+\u001b[39mmlp\u001b[38;5;241m.\u001b[39mn_outputs)]\n\u001b[0;32m--> 103\u001b[0m     MSE_train[k_i,:], MSE_test[k_i,:] \u001b[38;5;241m=\u001b[39m \u001b[43mmlp\u001b[49m\u001b[38;5;241;43m.\u001b[39;49m\u001b[43mfit\u001b[49m\u001b[43m(\u001b[49m\u001b[43m(\u001b[49m\u001b[43minput_data\u001b[49m\u001b[43m,\u001b[49m\u001b[43m \u001b[49m\u001b[43moutput_data\u001b[49m\u001b[43m)\u001b[49m\u001b[43m,\u001b[49m\u001b[43m \u001b[49m\u001b[43m(\u001b[49m\u001b[43minput_data_test\u001b[49m\u001b[43m,\u001b[49m\u001b[43m \u001b[49m\u001b[43moutput_data_test\u001b[49m\u001b[43m)\u001b[49m\u001b[43m,\u001b[49m\n\u001b[1;32m    104\u001b[0m \u001b[43m                                                \u001b[49m\u001b[43mlearning_rate\u001b[49m\u001b[38;5;241;43m=\u001b[39;49m\u001b[43mlearning_rate\u001b[49m\u001b[43m,\u001b[49m\u001b[43m \u001b[49m\u001b[43mmomentum\u001b[49m\u001b[38;5;241;43m=\u001b[39;49m\u001b[43mmomentum\u001b[49m\u001b[43m,\u001b[49m\u001b[43m \u001b[49m\u001b[43mepochs\u001b[49m\u001b[38;5;241;43m=\u001b[39;49m\u001b[43mepochs\u001b[49m\u001b[43m)\u001b[49m\n\u001b[1;32m    106\u001b[0m \u001b[38;5;28;01mreturn\u001b[39;00m (np\u001b[38;5;241m.\u001b[39mmean(MSE_train, axis\u001b[38;5;241m=\u001b[39m\u001b[38;5;241m0\u001b[39m), np\u001b[38;5;241m.\u001b[39mmean(MSE_test, axis\u001b[38;5;241m=\u001b[39m\u001b[38;5;241m0\u001b[39m))\n",
      "File \u001b[0;32m~/Documents/HEIG/Cours/ARN/Labos/Labo3/ARN-Labo03/notebooks/mlp_backprop_momentum.py:91\u001b[0m, in \u001b[0;36mMLP.fit\u001b[0;34m(self, data_train, data_test, learning_rate, momentum, epochs)\u001b[0m\n\u001b[1;32m     89\u001b[0m                                                 \u001b[38;5;66;03m# Feed-forward\u001b[39;00m\n\u001b[1;32m     90\u001b[0m \u001b[38;5;28;01mfor\u001b[39;00m l \u001b[38;5;129;01min\u001b[39;00m \u001b[38;5;28mrange\u001b[39m(\u001b[38;5;28mlen\u001b[39m(\u001b[38;5;28mself\u001b[39m\u001b[38;5;241m.\u001b[39mweights)):              \u001b[38;5;66;03m# Iterate and compute the activation of each layer\u001b[39;00m\n\u001b[0;32m---> 91\u001b[0m     a[l\u001b[38;5;241m+\u001b[39m\u001b[38;5;241m1\u001b[39m] \u001b[38;5;241m=\u001b[39m \u001b[38;5;28mself\u001b[39m\u001b[38;5;241m.\u001b[39mactivation(\u001b[43mnp\u001b[49m\u001b[38;5;241;43m.\u001b[39;49m\u001b[43mdot\u001b[49m\u001b[43m(\u001b[49m\u001b[43ma\u001b[49m\u001b[43m[\u001b[49m\u001b[43ml\u001b[49m\u001b[43m]\u001b[49m\u001b[43m,\u001b[49m\u001b[43m \u001b[49m\u001b[38;5;28;43mself\u001b[39;49m\u001b[38;5;241;43m.\u001b[39;49m\u001b[43mweights\u001b[49m\u001b[43m[\u001b[49m\u001b[43ml\u001b[49m\u001b[43m]\u001b[49m\u001b[43m)\u001b[49m) \u001b[38;5;66;03m# Apply the activation function to the product input.weights\u001b[39;00m\n\u001b[1;32m     93\u001b[0m error \u001b[38;5;241m=\u001b[39m a[\u001b[38;5;241m-\u001b[39m\u001b[38;5;241m1\u001b[39m] \u001b[38;5;241m-\u001b[39m y[i]                            \u001b[38;5;66;03m# Compute the error: output - target\u001b[39;00m\n\u001b[1;32m     94\u001b[0m error_it[it] \u001b[38;5;241m=\u001b[39m np\u001b[38;5;241m.\u001b[39mmean(error \u001b[38;5;241m*\u001b[39m\u001b[38;5;241m*\u001b[39m \u001b[38;5;241m2\u001b[39m)              \u001b[38;5;66;03m# Store the error of this iteration (average of all the outputs)\u001b[39;00m\n",
      "File \u001b[0;32m<__array_function__ internals>:180\u001b[0m, in \u001b[0;36mdot\u001b[0;34m(*args, **kwargs)\u001b[0m\n",
      "\u001b[0;31mKeyboardInterrupt\u001b[0m: "
     ]
    }
   ],
   "source": [
    "MSE_train = np.zeros((len(N_NEURONS), EPOCHS, N_TESTS))\n",
    "MSE_test = np.zeros((len(N_NEURONS), EPOCHS, N_TESTS))\n",
    "\n",
    "for i_h, h in enumerate(N_NEURONS):                                     # looping the number of hidden neurons\n",
    "    print('Testing', h, 'neurons...')\n",
    "    nn = mlp.MLP([13,h,1], 'tanh')\n",
    "    for i in np.arange(N_TESTS):                                        # looping the tests\n",
    "        nn.init_weights()                                               # the network has to be reinitialized before each test\n",
    "        temp1, temp2 = cv.k_fold_cross_validation_per_epoch(nn,         # notice that we do not use cv.k_fold_cross_validation\n",
    "                                                            dataset,    # but cv.k_fold_cross_validation_per_epoch which\n",
    "                                                            k=K,        # returns a value of error per each epoch\n",
    "                                                            learning_rate=LEARNING_RATE,\n",
    "                                                            momentum=MOMENTUM,\n",
    "                                                            epochs=EPOCHS)\n",
    "        # temp1 and temp2 are the training and test error. One value per epoch\n",
    "        MSE_train[i_h, :, i] = temp1\n",
    "        MSE_test[i_h, :, i] = temp2"
   ]
  },
  {
   "cell_type": "code",
   "execution_count": null,
   "metadata": {
    "scrolled": false
   },
   "outputs": [],
   "source": [
    "MSE_train_mean = np.mean(MSE_train, axis=2)\n",
    "MSE_test_mean = np.mean(MSE_test, axis=2)\n",
    "MSE_train_sd = np.std(MSE_train, axis=2)\n",
    "MSE_test_sd = np.std(MSE_test, axis=2)\n",
    "\n",
    "v_min = min(np.min(MSE_train_mean), np.min(MSE_test_mean))\n",
    "v_max = max(np.max(MSE_train_mean), np.max(MSE_test_mean))\n",
    "\n",
    "n_rows = int(np.ceil(len(N_NEURONS)/3.0))\n",
    "pl.figure(figsize=(12,3*n_rows))\n",
    "for i_n, n in enumerate(N_NEURONS):\n",
    "    pl.subplot(n_rows, min(3, len(N_NEURONS)), i_n+1)\n",
    "    pl.fill_between(np.arange(EPOCHS), MSE_train_mean[i_n,:], MSE_train_mean[i_n,:]+MSE_train_sd[i_n,:], facecolor='blue', alpha=0.5, label='Train')\n",
    "    pl.fill_between(np.arange(EPOCHS), MSE_train_mean[i_n,:], MSE_train_mean[i_n,:]-MSE_train_sd[i_n,:], facecolor='blue', alpha=0.5)\n",
    "    pl.fill_between(np.arange(EPOCHS), MSE_test_mean[i_n,:], MSE_test_mean[i_n,:]+MSE_test_sd[i_n,:], facecolor='red', alpha=0.5, label='Test')\n",
    "    pl.fill_between(np.arange(EPOCHS), MSE_test_mean[i_n,:], MSE_test_mean[i_n,:]-MSE_test_sd[i_n,:], facecolor='red', alpha=0.5)\n",
    "    pl.ylim(v_min, v_max)\n",
    "    pl.ylabel('MSE')\n",
    "    pl.xlabel('Number of epochs')\n",
    "    pl.title(str(K)+'-fold CV with '+str(n)+' hidden neurons')\n",
    "    pl.legend()\n",
    "    pl.grid()\n",
    "pl.tight_layout()"
   ]
  },
  {
   "cell_type": "markdown",
   "metadata": {},
   "source": [
    "Notice that the test error does not improve much between 40 and 60 iterations, neither adding more hidden neurons after 4 units. "
   ]
  },
  {
   "cell_type": "markdown",
   "metadata": {},
   "source": [
    "The following snippet shows a different visualization."
   ]
  },
  {
   "cell_type": "code",
   "execution_count": null,
   "metadata": {},
   "outputs": [],
   "source": [
    "pl.figure(figsize=(15,8))\n",
    "pl.subplot(2,1,1)\n",
    "pl.imshow(MSE_train_mean, vmin=np.min(MSE_train_mean), vmax=np.percentile(MSE_train_mean, 90), aspect=3, interpolation='nearest')\n",
    "pl.yticks(np.arange(len(N_NEURONS)), N_NEURONS)\n",
    "pl.xlabel('Epochs')\n",
    "pl.ylabel('Number of hidden Neurons')\n",
    "pl.title('Training')\n",
    "pl.colorbar()\n",
    "pl.subplot(2,1,2)\n",
    "pl.imshow(MSE_test_mean, vmin=np.min(MSE_test_mean), vmax=np.percentile(MSE_test_mean, 90), aspect=3, interpolation='nearest')\n",
    "pl.yticks(np.arange(len(N_NEURONS)), N_NEURONS)\n",
    "pl.xlabel('Epochs')\n",
    "pl.ylabel('Number of hidden Neurons')\n",
    "pl.title('Test')\n",
    "pl.colorbar()\n",
    "pl.tight_layout()"
   ]
  },
  {
   "cell_type": "markdown",
   "metadata": {},
   "source": [
    "For this particular problem, having more hidden neurons or running the backpropagation algorithm longer does not affect negatively the performance of the model. However, more iterations implies more processing time and more neurons implies more ressources and this should be avoided."
   ]
  },
  {
   "cell_type": "markdown",
   "metadata": {},
   "source": [
    "## The final model\n",
    "An artificial neural network with 2 neurons and 40 iterations of the backpropagation algorithm is enough to solve the problem."
   ]
  },
  {
   "cell_type": "code",
   "execution_count": null,
   "metadata": {},
   "outputs": [],
   "source": [
    "nn = mlp.MLP([13,2,1], 'tanh')"
   ]
  },
  {
   "cell_type": "code",
   "execution_count": null,
   "metadata": {},
   "outputs": [],
   "source": [
    "MSE_train, MSE_test, conf_mat = cv.k_fold_cross_validation(nn,\n",
    "                                                          dataset,\n",
    "                                                          k=K,\n",
    "                                                          learning_rate=LEARNING_RATE,\n",
    "                                                          momentum=MOMENTUM,\n",
    "                                                          epochs=1000,\n",
    "                                                          threshold=0)"
   ]
  },
  {
   "cell_type": "code",
   "execution_count": null,
   "metadata": {},
   "outputs": [],
   "source": [
    "print('MSE training: ', MSE_train)\n",
    "print('MSE test: ', MSE_test)\n",
    "print('Confusion matrix:')\n",
    "print(conf_mat)"
   ]
  },
  {
   "cell_type": "markdown",
   "metadata": {},
   "source": [
    "### Ajout des enfants"
   ]
  },
  {
   "cell_type": "code",
   "execution_count": null,
   "metadata": {},
   "outputs": [],
   "source": [
    "# Concatenation of male, female, kids\n",
    "\n",
    "mfccs = np.concatenate((\n",
    "    nam_mfcc_median,\n",
    "    naf_mfcc_median,\n",
    "    nk_mfcc_median\n",
    "))\n",
    "\n",
    "print(mfccs.shape)\n",
    "c1 = np.concatenate(\n",
    "    (\n",
    "        np.repeat(1, len(nam_mfcc_median)),\n",
    "        np.repeat(0, len(naf_mfcc_median)),\n",
    "        np.repeat(0, len(nk_mfcc_median))\n",
    "    )\n",
    ")\n",
    "c2 = np.concatenate(\n",
    "    (\n",
    "        np.repeat(0, len(nam_mfcc_median)),\n",
    "        np.repeat(1, len(naf_mfcc_median)),\n",
    "        np.repeat(0, len(nk_mfcc_median))\n",
    "    )\n",
    ")\n",
    "c3 = np.concatenate(\n",
    "    (\n",
    "        np.repeat(0, len(nam_mfcc_median)),\n",
    "        np.repeat(0, len(naf_mfcc_median)),\n",
    "        np.repeat(1, len(nk_mfcc_median))\n",
    "    )\n",
    ")\n",
    "\n",
    "c1 = np.reshape(c1, (len(c1), 1))\n",
    "c2 = np.reshape(c2, (len(c2), 1))\n",
    "c3 = np.reshape(c3, (len(c3), 1))\n",
    "\n",
    "classes = np.concatenate(\n",
    "    (\n",
    "        c1,\n",
    "        c2,\n",
    "        c3\n",
    "    ), axis=1\n",
    ")\n",
    "\n",
    "\n",
    "# randomize order\n",
    "random_order = np.random.permutation(mfccs.shape[0])\n",
    "\n",
    "mfccs = mfccs[random_order]\n",
    "classes = classes[random_order]\n",
    "\n",
    "# Colonnes 13:16 de dataset = classes. 100 = m, 010 = f, 001 = k\n",
    "dataset = np.insert(mfccs, 13, classes[:,0], axis=1)\n",
    "dataset = np.insert(dataset, 14, classes[:,1], axis=1)\n",
    "dataset = np.insert(dataset, 15, classes[:,2], axis=1)\n",
    "\n",
    "print(dataset)\n",
    "print(classes)"
   ]
  },
  {
   "cell_type": "code",
   "execution_count": null,
   "metadata": {},
   "outputs": [],
   "source": [
    "N_INITS = 10\n",
    "EPOCHS = 500\n",
    "N_NEURONS = [2, 4, 8]#, 16, 32]\n",
    "LEARNING_RATE = 0.00005\n",
    "MOMENTUM = 0.97"
   ]
  },
  {
   "cell_type": "code",
   "execution_count": null,
   "metadata": {},
   "outputs": [],
   "source": [
    "MSE = np.zeros((len(N_NEURONS), N_INITS, EPOCHS))\n",
    "\n",
    "for i_h, h in enumerate(N_NEURONS):                                     # looping over the number of hidden neurons\n",
    "    print('Testing', h, 'neurons...')\n",
    "    nn = mlp.MLP([13,h,3], 'tanh')\n",
    "    for i in np.arange(N_INITS):                                        # looping over the initializations\n",
    "        nn.init_weights()\n",
    "        \n",
    "        MSE[i_h, i, :] = nn.fit((dataset[:,0:13], dataset[:,13:16]),\n",
    "                                learning_rate=LEARNING_RATE,\n",
    "                                momentum=MOMENTUM,\n",
    "                                epochs=EPOCHS)"
   ]
  },
  {
   "cell_type": "code",
   "execution_count": null,
   "metadata": {},
   "outputs": [],
   "source": [
    "pl.figure(figsize=(15,4))\n",
    "p_count = 0\n",
    "for n in np.arange(MSE.shape[0]):\n",
    "    pl.subplot(1, MSE.shape[0], n+1)\n",
    "    for i in np.arange(MSE.shape[1]):\n",
    "        pl.plot(MSE[n,i,:], c='b')\n",
    "    pl.ylim(0,1)\n",
    "    pl.xlabel('Epochs')\n",
    "    pl.ylabel('MSE')\n",
    "    pl.title(str(N_NEURONS[n]) + ' neurons')\n",
    "    pl.grid()\n",
    "pl.tight_layout()"
   ]
  },
  {
   "cell_type": "markdown",
   "metadata": {},
   "source": [
    "#### Exploring the number of hidden neurons"
   ]
  },
  {
   "cell_type": "code",
   "execution_count": null,
   "metadata": {},
   "outputs": [],
   "source": [
    "EPOCHS = 350\n",
    "K = 5\n",
    "N_TESTS = 10\n",
    "N_NEURONS = [2, 4, 6]#, 8, 10, 15, 20, 25, 30]"
   ]
  },
  {
   "cell_type": "code",
   "execution_count": null,
   "metadata": {},
   "outputs": [],
   "source": [
    "MSE_train = np.zeros((len(N_NEURONS), EPOCHS, N_TESTS))\n",
    "MSE_test = np.zeros((len(N_NEURONS), EPOCHS, N_TESTS))\n",
    "\n",
    "for i_h, h in enumerate(N_NEURONS):                                     # looping the number of hidden neurons\n",
    "    print('Testing', h, 'neurons...')\n",
    "    nn = mlp.MLP([13,h,3], 'tanh')\n",
    "    for i in np.arange(N_TESTS):                                        # looping the tests\n",
    "        nn.init_weights()                                               # the network has to be reinitialized before each test\n",
    "        temp1, temp2 = cv.k_fold_cross_validation_per_epoch(nn,         # notice that we do not use cv.k_fold_cross_validation\n",
    "                                                            dataset,    # but cv.k_fold_cross_validation_per_epoch which\n",
    "                                                            k=K,        # returns a value of error per each epoch\n",
    "                                                            learning_rate=LEARNING_RATE,\n",
    "                                                            momentum=MOMENTUM,\n",
    "                                                            epochs=EPOCHS)\n",
    "        # temp1 and temp2 are the training and test error. One value per epoch\n",
    "        MSE_train[i_h, :, i] = temp1\n",
    "        MSE_test[i_h, :, i] = temp2"
   ]
  },
  {
   "cell_type": "code",
   "execution_count": null,
   "metadata": {},
   "outputs": [],
   "source": [
    "MSE_train_mean = np.mean(MSE_train, axis=2)\n",
    "MSE_test_mean = np.mean(MSE_test, axis=2)\n",
    "MSE_train_sd = np.std(MSE_train, axis=2)\n",
    "MSE_test_sd = np.std(MSE_test, axis=2)\n",
    "\n",
    "v_min = min(np.min(MSE_train_mean), np.min(MSE_test_mean))\n",
    "v_max = max(np.max(MSE_train_mean), np.max(MSE_test_mean))\n",
    "\n",
    "n_rows = int(np.ceil(len(N_NEURONS)/3.0))\n",
    "pl.figure(figsize=(12,3*n_rows))\n",
    "for i_n, n in enumerate(N_NEURONS):\n",
    "    pl.subplot(n_rows, min(3, len(N_NEURONS)), i_n+1)\n",
    "    pl.fill_between(np.arange(EPOCHS), MSE_train_mean[i_n,:], MSE_train_mean[i_n,:]+MSE_train_sd[i_n,:], facecolor='blue', alpha=0.5, label='Train')\n",
    "    pl.fill_between(np.arange(EPOCHS), MSE_train_mean[i_n,:], MSE_train_mean[i_n,:]-MSE_train_sd[i_n,:], facecolor='blue', alpha=0.5)\n",
    "    pl.fill_between(np.arange(EPOCHS), MSE_test_mean[i_n,:], MSE_test_mean[i_n,:]+MSE_test_sd[i_n,:], facecolor='red', alpha=0.5, label='Test')\n",
    "    pl.fill_between(np.arange(EPOCHS), MSE_test_mean[i_n,:], MSE_test_mean[i_n,:]-MSE_test_sd[i_n,:], facecolor='red', alpha=0.5)\n",
    "    pl.ylim(v_min, v_max)\n",
    "    pl.ylabel('MSE')\n",
    "    pl.xlabel('Number of epochs')\n",
    "    pl.title(str(K)+'-fold CV with '+str(n)+' hidden neurons')\n",
    "    pl.legend()\n",
    "    pl.grid()\n",
    "pl.tight_layout()"
   ]
  },
  {
   "cell_type": "code",
   "execution_count": null,
   "metadata": {},
   "outputs": [],
   "source": [
    "pl.figure(figsize=(15,8))\n",
    "pl.subplot(2,1,1)\n",
    "pl.imshow(MSE_train_mean, vmin=np.min(MSE_train_mean), vmax=np.percentile(MSE_train_mean, 90), aspect=3, interpolation='nearest')\n",
    "pl.yticks(np.arange(len(N_NEURONS)), N_NEURONS)\n",
    "pl.xlabel('Epochs')\n",
    "pl.ylabel('Number of hidden Neurons')\n",
    "pl.title('Training')\n",
    "pl.colorbar()\n",
    "pl.subplot(2,1,2)\n",
    "pl.imshow(MSE_test_mean, vmin=np.min(MSE_test_mean), vmax=np.percentile(MSE_test_mean, 90), aspect=3, interpolation='nearest')\n",
    "pl.yticks(np.arange(len(N_NEURONS)), N_NEURONS)\n",
    "pl.xlabel('Epochs')\n",
    "pl.ylabel('Number of hidden Neurons')\n",
    "pl.title('Test')\n",
    "pl.colorbar()\n",
    "pl.tight_layout()"
   ]
  },
  {
   "cell_type": "markdown",
   "metadata": {},
   "source": [
    "#### Final model"
   ]
  },
  {
   "cell_type": "code",
   "execution_count": null,
   "metadata": {},
   "outputs": [],
   "source": [
    "nn = mlp.MLP([13,2,3], 'logistic')"
   ]
  },
  {
   "cell_type": "code",
   "execution_count": null,
   "metadata": {},
   "outputs": [],
   "source": [
    "MSE_train, MSE_test, conf_mat = cv.k_fold_cross_validation(nn,\n",
    "                                                          dataset,\n",
    "                                                          k=K,\n",
    "                                                          learning_rate=LEARNING_RATE,\n",
    "                                                          momentum=MOMENTUM,\n",
    "                                                          epochs=350,\n",
    "                                                          threshold=0.5)"
   ]
  },
  {
   "cell_type": "code",
   "execution_count": null,
   "metadata": {},
   "outputs": [],
   "source": [
    "print('MSE training: ', MSE_train)\n",
    "print('MSE test: ', MSE_test)\n",
    "print('Confusion matrix:')\n",
    "print(conf_mat)"
   ]
  },
  {
   "cell_type": "code",
   "execution_count": null,
   "metadata": {},
   "outputs": [],
   "source": []
  },
  {
   "cell_type": "code",
   "execution_count": null,
   "metadata": {},
   "outputs": [],
   "source": []
  },
  {
   "cell_type": "code",
   "execution_count": null,
   "metadata": {},
   "outputs": [],
   "source": []
  },
  {
   "cell_type": "code",
   "execution_count": null,
   "metadata": {},
   "outputs": [],
   "source": []
  },
  {
   "cell_type": "code",
   "execution_count": null,
   "metadata": {},
   "outputs": [],
   "source": []
  },
  {
   "cell_type": "code",
   "execution_count": null,
   "metadata": {},
   "outputs": [],
   "source": []
  },
  {
   "cell_type": "code",
   "execution_count": null,
   "metadata": {},
   "outputs": [],
   "source": []
  }
 ],
 "metadata": {
  "kernelspec": {
   "display_name": "Python 3 (ipykernel)",
   "language": "python",
   "name": "python3"
  },
  "language_info": {
   "codemirror_mode": {
    "name": "ipython",
    "version": 3
   },
   "file_extension": ".py",
   "mimetype": "text/x-python",
   "name": "python",
   "nbconvert_exporter": "python",
   "pygments_lexer": "ipython3",
   "version": "3.9.7"
  },
  "widgets": {
   "state": {
    "f7df0ab69b604903958cf654849aa9ee": {
     "views": [
      {
       "cell_index": 6
      }
     ]
    }
   },
   "version": "1.2.0"
  }
 },
 "nbformat": 4,
 "nbformat_minor": 1
}
