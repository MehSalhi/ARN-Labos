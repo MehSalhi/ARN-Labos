{
 "cells": [
  {
   "cell_type": "markdown",
   "id": "534c7f55",
   "metadata": {},
   "source": [
    "# Fashion MNIST"
   ]
  },
  {
   "cell_type": "markdown",
   "id": "b38de9fa",
   "metadata": {},
   "source": [
    "Source of dataset\n",
    "https://keras.io/api/datasets/fashion_mnist/\n"
   ]
  },
  {
   "cell_type": "markdown",
   "id": "a9d8e1fa",
   "metadata": {},
   "source": [
    "# Code\n",
    "\n",
    "We copied and adapted the code from the provided CNN notebook. We also tried various parameters and pieces of code from the following website: https://machinelearningmastery.com/how-to-develop-a-cnn-from-scratch-for-fashion-mnist-clothing-classification/\n"
   ]
  },
  {
   "cell_type": "markdown",
   "id": "a7271f10",
   "metadata": {},
   "source": [
    "## Librairies and modules import"
   ]
  },
  {
   "cell_type": "code",
   "execution_count": 1,
   "id": "0698a07f",
   "metadata": {},
   "outputs": [
    {
     "name": "stdout",
     "output_type": "stream",
     "text": [
      "Requirement already satisfied: tensorflow in /home/kintaro/miniconda3/lib/python3.8/site-packages (2.8.0)\n",
      "Requirement already satisfied: tensorboard<2.9,>=2.8 in /home/kintaro/miniconda3/lib/python3.8/site-packages (from tensorflow) (2.8.0)\n",
      "Requirement already satisfied: opt-einsum>=2.3.2 in /home/kintaro/miniconda3/lib/python3.8/site-packages (from tensorflow) (3.3.0)\n",
      "Requirement already satisfied: setuptools in /home/kintaro/miniconda3/lib/python3.8/site-packages (from tensorflow) (58.0.4)\n",
      "Requirement already satisfied: flatbuffers>=1.12 in /home/kintaro/miniconda3/lib/python3.8/site-packages (from tensorflow) (2.0)\n",
      "Requirement already satisfied: termcolor>=1.1.0 in /home/kintaro/miniconda3/lib/python3.8/site-packages (from tensorflow) (1.1.0)\n",
      "Requirement already satisfied: gast>=0.2.1 in /home/kintaro/miniconda3/lib/python3.8/site-packages (from tensorflow) (0.5.3)\n",
      "Requirement already satisfied: absl-py>=0.4.0 in /home/kintaro/miniconda3/lib/python3.8/site-packages (from tensorflow) (1.0.0)\n",
      "Requirement already satisfied: keras-preprocessing>=1.1.1 in /home/kintaro/miniconda3/lib/python3.8/site-packages (from tensorflow) (1.1.2)\n",
      "Requirement already satisfied: keras<2.9,>=2.8.0rc0 in /home/kintaro/miniconda3/lib/python3.8/site-packages (from tensorflow) (2.8.0)\n",
      "Requirement already satisfied: tensorflow-io-gcs-filesystem>=0.23.1 in /home/kintaro/miniconda3/lib/python3.8/site-packages (from tensorflow) (0.25.0)\n",
      "Requirement already satisfied: google-pasta>=0.1.1 in /home/kintaro/miniconda3/lib/python3.8/site-packages (from tensorflow) (0.2.0)\n",
      "Requirement already satisfied: grpcio<2.0,>=1.24.3 in /home/kintaro/miniconda3/lib/python3.8/site-packages (from tensorflow) (1.44.0)\n",
      "Requirement already satisfied: six>=1.12.0 in /home/kintaro/miniconda3/lib/python3.8/site-packages (from tensorflow) (1.16.0)\n",
      "Requirement already satisfied: wrapt>=1.11.0 in /home/kintaro/miniconda3/lib/python3.8/site-packages (from tensorflow) (1.14.0)\n",
      "Requirement already satisfied: numpy>=1.20 in /home/kintaro/miniconda3/lib/python3.8/site-packages (from tensorflow) (1.22.3)\n",
      "Requirement already satisfied: astunparse>=1.6.0 in /home/kintaro/miniconda3/lib/python3.8/site-packages (from tensorflow) (1.6.3)\n",
      "Requirement already satisfied: libclang>=9.0.1 in /home/kintaro/miniconda3/lib/python3.8/site-packages (from tensorflow) (14.0.1)\n",
      "Requirement already satisfied: protobuf>=3.9.2 in /home/kintaro/miniconda3/lib/python3.8/site-packages (from tensorflow) (3.20.1)\n",
      "Requirement already satisfied: tf-estimator-nightly==2.8.0.dev2021122109 in /home/kintaro/miniconda3/lib/python3.8/site-packages (from tensorflow) (2.8.0.dev2021122109)\n",
      "Requirement already satisfied: h5py>=2.9.0 in /home/kintaro/miniconda3/lib/python3.8/site-packages (from tensorflow) (3.6.0)\n",
      "Requirement already satisfied: typing-extensions>=3.6.6 in /home/kintaro/miniconda3/lib/python3.8/site-packages (from tensorflow) (4.1.1)\n",
      "Requirement already satisfied: wheel<1.0,>=0.23.0 in /home/kintaro/miniconda3/lib/python3.8/site-packages (from astunparse>=1.6.0->tensorflow) (0.37.1)\n",
      "Requirement already satisfied: tensorboard-plugin-wit>=1.6.0 in /home/kintaro/miniconda3/lib/python3.8/site-packages (from tensorboard<2.9,>=2.8->tensorflow) (1.8.1)\n",
      "Requirement already satisfied: tensorboard-data-server<0.7.0,>=0.6.0 in /home/kintaro/miniconda3/lib/python3.8/site-packages (from tensorboard<2.9,>=2.8->tensorflow) (0.6.1)\n",
      "Requirement already satisfied: google-auth-oauthlib<0.5,>=0.4.1 in /home/kintaro/miniconda3/lib/python3.8/site-packages (from tensorboard<2.9,>=2.8->tensorflow) (0.4.6)\n",
      "Requirement already satisfied: requests<3,>=2.21.0 in /home/kintaro/miniconda3/lib/python3.8/site-packages (from tensorboard<2.9,>=2.8->tensorflow) (2.27.1)\n",
      "Requirement already satisfied: markdown>=2.6.8 in /home/kintaro/miniconda3/lib/python3.8/site-packages (from tensorboard<2.9,>=2.8->tensorflow) (3.3.6)\n",
      "Requirement already satisfied: werkzeug>=0.11.15 in /home/kintaro/miniconda3/lib/python3.8/site-packages (from tensorboard<2.9,>=2.8->tensorflow) (2.1.1)\n",
      "Requirement already satisfied: google-auth<3,>=1.6.3 in /home/kintaro/miniconda3/lib/python3.8/site-packages (from tensorboard<2.9,>=2.8->tensorflow) (2.6.6)\n",
      "Requirement already satisfied: rsa<5,>=3.1.4 in /home/kintaro/miniconda3/lib/python3.8/site-packages (from google-auth<3,>=1.6.3->tensorboard<2.9,>=2.8->tensorflow) (4.8)\n",
      "Requirement already satisfied: cachetools<6.0,>=2.0.0 in /home/kintaro/miniconda3/lib/python3.8/site-packages (from google-auth<3,>=1.6.3->tensorboard<2.9,>=2.8->tensorflow) (5.0.0)\n",
      "Requirement already satisfied: pyasn1-modules>=0.2.1 in /home/kintaro/miniconda3/lib/python3.8/site-packages (from google-auth<3,>=1.6.3->tensorboard<2.9,>=2.8->tensorflow) (0.2.8)\n",
      "Requirement already satisfied: requests-oauthlib>=0.7.0 in /home/kintaro/miniconda3/lib/python3.8/site-packages (from google-auth-oauthlib<0.5,>=0.4.1->tensorboard<2.9,>=2.8->tensorflow) (1.3.1)\n",
      "Requirement already satisfied: importlib-metadata>=4.4 in /home/kintaro/miniconda3/lib/python3.8/site-packages (from markdown>=2.6.8->tensorboard<2.9,>=2.8->tensorflow) (4.8.2)\n",
      "Requirement already satisfied: zipp>=0.5 in /home/kintaro/miniconda3/lib/python3.8/site-packages (from importlib-metadata>=4.4->markdown>=2.6.8->tensorboard<2.9,>=2.8->tensorflow) (3.7.0)\n",
      "Requirement already satisfied: pyasn1<0.5.0,>=0.4.6 in /home/kintaro/miniconda3/lib/python3.8/site-packages (from pyasn1-modules>=0.2.1->google-auth<3,>=1.6.3->tensorboard<2.9,>=2.8->tensorflow) (0.4.8)\n",
      "Requirement already satisfied: urllib3<1.27,>=1.21.1 in /home/kintaro/miniconda3/lib/python3.8/site-packages (from requests<3,>=2.21.0->tensorboard<2.9,>=2.8->tensorflow) (1.26.8)\n",
      "Requirement already satisfied: idna<4,>=2.5 in /home/kintaro/miniconda3/lib/python3.8/site-packages (from requests<3,>=2.21.0->tensorboard<2.9,>=2.8->tensorflow) (3.3)\n",
      "Requirement already satisfied: certifi>=2017.4.17 in /home/kintaro/miniconda3/lib/python3.8/site-packages (from requests<3,>=2.21.0->tensorboard<2.9,>=2.8->tensorflow) (2021.10.8)\n",
      "Requirement already satisfied: charset-normalizer~=2.0.0 in /home/kintaro/miniconda3/lib/python3.8/site-packages (from requests<3,>=2.21.0->tensorboard<2.9,>=2.8->tensorflow) (2.0.4)\n",
      "Requirement already satisfied: oauthlib>=3.0.0 in /home/kintaro/miniconda3/lib/python3.8/site-packages (from requests-oauthlib>=0.7.0->google-auth-oauthlib<0.5,>=0.4.1->tensorboard<2.9,>=2.8->tensorflow) (3.2.0)\n",
      "Note: you may need to restart the kernel to use updated packages.\n",
      "Requirement already satisfied: keras in /home/kintaro/miniconda3/lib/python3.8/site-packages (2.8.0)\n",
      "Note: you may need to restart the kernel to use updated packages.\n"
     ]
    },
    {
     "name": "stderr",
     "output_type": "stream",
     "text": [
      "2022-05-12 19:20:58.500811: W tensorflow/stream_executor/platform/default/dso_loader.cc:64] Could not load dynamic library 'libcudart.so.11.0'; dlerror: libcudart.so.11.0: cannot open shared object file: No such file or directory\n",
      "2022-05-12 19:20:58.500862: I tensorflow/stream_executor/cuda/cudart_stub.cc:29] Ignore above cudart dlerror if you do not have a GPU set up on your machine.\n"
     ]
    }
   ],
   "source": [
    "%pip install tensorflow --upgrade\n",
    "%pip install keras --upgrade\n",
    "\n",
    "# example of loading the fashion mnist dataset\n",
    "from matplotlib import pyplot\n",
    "\n",
    "import numpy as np\n",
    "from matplotlib import pyplot as pl\n",
    "\n",
    "from keras.datasets import mnist\n",
    "from keras.models import Model\n",
    "from keras.layers.core import Dense, Dropout, Flatten\n",
    "from tensorflow.keras.optimizers import RMSprop\n",
    "from keras.utils import np_utils\n",
    "from keras.layers.convolutional import Conv2D, MaxPooling2D\n",
    "from keras.layers import Input\n",
    "from sklearn import metrics as me\n",
    "from scipy import stats\n",
    "\n",
    "%matplotlib inline"
   ]
  },
  {
   "cell_type": "markdown",
   "id": "8573fdd2",
   "metadata": {},
   "source": [
    "## Dataset load"
   ]
  },
  {
   "cell_type": "code",
   "execution_count": 28,
   "id": "87852c82",
   "metadata": {},
   "outputs": [],
   "source": [
    "# Load the dataset\n",
    "from keras.datasets import fashion_mnist\n",
    "# load dataset\n",
    "(X_train, y_train), (X_test, y_test) = fashion_mnist.load_data()\n",
    "\n",
    "# Check the size\n",
    "assert X_train.shape == (60000, 28, 28)\n",
    "assert X_test.shape == (10000, 28, 28)\n",
    "assert y_train.shape == (60000,)\n",
    "assert y_test.shape == (10000,)"
   ]
  },
  {
   "cell_type": "markdown",
   "id": "19794632",
   "metadata": {},
   "source": [
    "## Dataset summary"
   ]
  },
  {
   "cell_type": "code",
   "execution_count": 29,
   "id": "de614b75",
   "metadata": {},
   "outputs": [
    {
     "name": "stdout",
     "output_type": "stream",
     "text": [
      "Train: X=(60000, 28, 28), y=(60000,)\n",
      "Test: X=(10000, 28, 28), y=(10000,)\n"
     ]
    },
    {
     "data": {
      "image/png": "[encoded data removed]",
      "text/plain": [
       "<Figure size 432x288 with 9 Axes>"
      ]
     },
     "metadata": {
      "needs_background": "light"
     },
     "output_type": "display_data"
    }
   ],
   "source": [
    "# source: https://machinelearningmastery.com/how-to-develop-a-cnn-from-scratch-for-fashion-mnist-clothing-classification/\n",
    "# summarize loaded dataset\n",
    "print('Train: X=%s, y=%s' % (X_train.shape, y_train.shape))\n",
    "print('Test: X=%s, y=%s' % (X_test.shape, y_test.shape))\n",
    "# plot first few images\n",
    "for i in range(9):\n",
    "    # define subplot\n",
    "    pyplot.subplot(330 + 1 + i)\n",
    "    # plot raw pixel data\n",
    "    pyplot.imshow(X_train[i], cmap=pyplot.get_cmap('gray'))\n",
    "# show the figure\n",
    "pyplot.show()\n",
    "\n"
   ]
  },
  {
   "cell_type": "markdown",
   "id": "94ba34a5",
   "metadata": {},
   "source": [
    "## Utility functions"
   ]
  },
  {
   "cell_type": "code",
   "execution_count": 30,
   "id": "841720df",
   "metadata": {},
   "outputs": [],
   "source": [
    "def build_grid_of_images(array):\n",
    "    assert len(array.shape) == 3\n",
    "    dim_0 = np.sqrt(array.shape[0])\n",
    "    assert dim_0.is_integer()\n",
    "    \n",
    "    temp_out = np.reshape(array, (dim_0, dim_0, array.shape[1], array.shape[2]))\n",
    "    temp_out = np.rollaxis(temp_out, 1, 3)\n",
    "    return np.reshape(temp_out, (dim_0*array.shape[1], dim_0*array.shape[2]))\n",
    "\n",
    "def plot_conv_layer_output(temp_out, title):\n",
    "    temp_to_plot = build_grid_of_images(temp_out)\n",
    "    pl.imshow(temp_to_plot, interpolation='nearest', cmap=pl.get_cmap('Greys'))\n",
    "    ax = pl.gca()\n",
    "    ax.set_xticks(np.arange(-0.5, temp_to_plot.shape[0]+0.5, temp_out.shape[1]))    \n",
    "    ax.set_yticks(np.arange(-0.5, temp_to_plot.shape[0]+0.5, temp_out.shape[2]))\n",
    "    pl.grid()\n",
    "    pl.tick_params(axis='both', which='both', bottom='off', top='off', left='off', right='off', labelbottom='off', labelleft='off')\n",
    "    pl.title(title)\n",
    "\n",
    "def plot_dense_layer_output(temp_out, title):\n",
    "    pl.bar(np.arange(temp_out.shape[1])-0.4, temp_out[0,:])\n",
    "    pl.xlim(-0.5, temp_out.shape[1])\n",
    "    pl.grid()\n",
    "    pl.title(title)"
   ]
  },
  {
   "cell_type": "markdown",
   "id": "463c88ae",
   "metadata": {},
   "source": [
    "## Normalization and formatting of dataset"
   ]
  },
  {
   "cell_type": "code",
   "execution_count": 31,
   "id": "fd820ef1",
   "metadata": {},
   "outputs": [
    {
     "name": "stdout",
     "output_type": "stream",
     "text": [
      "60000 train samples\n",
      "10000 test samples\n"
     ]
    }
   ],
   "source": [
    "n_train, height, width = X_train.shape\n",
    "n_test, _, _ = X_test.shape\n",
    "\n",
    "X_train = X_train.reshape(n_train, height, width, 1).astype('float32')\n",
    "X_test = X_test.reshape(n_test, height, width, 1).astype('float32')\n",
    "\n",
    "X_train /= 255.0\n",
    "X_test /= 255.0\n",
    "\n",
    "n_classes = 10\n",
    "\n",
    "print(n_train, 'train samples')\n",
    "print(n_test, 'test samples')\n",
    "\n",
    "# convert class vectors to binary class matrices\n",
    "Y_train = np_utils.to_categorical(y_train, n_classes)\n",
    "Y_test = np_utils.to_categorical(y_test, n_classes)"
   ]
  },
  {
   "cell_type": "markdown",
   "id": "64cd963a",
   "metadata": {},
   "source": [
    "# CNN Model setting"
   ]
  },
  {
   "cell_type": "code",
   "execution_count": 32,
   "id": "279266d3",
   "metadata": {},
   "outputs": [],
   "source": [
    "l0 = Input(shape=(height, width, 1), name='l0')\n",
    "#l1 = Conv2D(9, (5, 5), padding='same', activation='relu', kernel_initializer='he_uniform', name='l1')(l0)\n",
    "l1 = Conv2D(9, (3, 3), padding='same', activation='relu', name='l1')(l0)\n",
    "l1_mp = MaxPooling2D(pool_size=(2, 2), name='l1_mp')(l1)\n",
    "\n",
    "#l2 = Conv2D(9, (3,3), padding='same', activation='relu', name='l2')(l1_mp)\n",
    "#l2_mp = MaxPooling2D(pool_size=(2, 2), name='l2_mp')(l2)\n",
    "\n",
    "#l3 = Conv2D(16, (3, 3), padding='same', activation='relu', name='l3')(l2_mp)\n",
    "#l3_mp = MaxPooling2D(pool_size=(2, 2), name='l3_mp')(l3)\n",
    "\n"
   ]
  },
  {
   "cell_type": "code",
   "execution_count": 33,
   "id": "8e70b379",
   "metadata": {},
   "outputs": [
    {
     "name": "stdout",
     "output_type": "stream",
     "text": [
      "Model: \"model_5\"\n",
      "_________________________________________________________________\n",
      " Layer (type)                Output Shape              Param #   \n",
      "=================================================================\n",
      " l0 (InputLayer)             [(None, 28, 28, 1)]       0         \n",
      "                                                                 \n",
      " l1 (Conv2D)                 (None, 28, 28, 9)         90        \n",
      "                                                                 \n",
      " l1_mp (MaxPooling2D)        (None, 14, 14, 9)         0         \n",
      "                                                                 \n",
      " flat (Flatten)              (None, 1764)              0         \n",
      "                                                                 \n",
      " l4 (Dense)                  (None, 100)               176500    \n",
      "                                                                 \n",
      " l5 (Dense)                  (None, 10)                1010      \n",
      "                                                                 \n",
      "=================================================================\n",
      "Total params: 177,600\n",
      "Trainable params: 177,600\n",
      "Non-trainable params: 0\n",
      "_________________________________________________________________\n"
     ]
    }
   ],
   "source": [
    "flat = Flatten(name='flat')(l1_mp)\n",
    "\n",
    "l4 = Dense(100, activation='relu', name='l4')(flat)\n",
    "\n",
    "l5 = Dense(n_classes, activation='softmax', name='l5')(l4)\n",
    "\n",
    "model = Model(inputs=l0, outputs=l5)\n",
    "model.summary()"
   ]
  },
  {
   "cell_type": "code",
   "execution_count": 34,
   "id": "7d31f994",
   "metadata": {},
   "outputs": [
    {
     "name": "stdout",
     "output_type": "stream",
     "text": [
      "Epoch 1/50\n",
      "15/15 [==============================] - 2s 126ms/step - loss: 1.4120 - accuracy: 0.5358 - val_loss: 0.9821 - val_accuracy: 0.6922\n",
      "Epoch 2/50\n",
      "15/15 [==============================] - 2s 120ms/step - loss: 0.8302 - accuracy: 0.7189 - val_loss: 0.7552 - val_accuracy: 0.7270\n",
      "Epoch 3/50\n",
      "15/15 [==============================] - 2s 120ms/step - loss: 0.6827 - accuracy: 0.7516 - val_loss: 0.6702 - val_accuracy: 0.7417\n",
      "Epoch 4/50\n",
      "15/15 [==============================] - 2s 118ms/step - loss: 0.6302 - accuracy: 0.7755 - val_loss: 0.6541 - val_accuracy: 0.7489\n",
      "Epoch 5/50\n",
      "15/15 [==============================] - 2s 117ms/step - loss: 0.6006 - accuracy: 0.7833 - val_loss: 0.5574 - val_accuracy: 0.7929\n",
      "Epoch 6/50\n",
      "15/15 [==============================] - 2s 118ms/step - loss: 0.5686 - accuracy: 0.7894 - val_loss: 0.5706 - val_accuracy: 0.8010\n",
      "Epoch 7/50\n",
      "15/15 [==============================] - 2s 119ms/step - loss: 0.5370 - accuracy: 0.8019 - val_loss: 0.5652 - val_accuracy: 0.8056\n",
      "Epoch 8/50\n",
      "15/15 [==============================] - 2s 117ms/step - loss: 0.5054 - accuracy: 0.8170 - val_loss: 0.6002 - val_accuracy: 0.7791\n",
      "Epoch 9/50\n",
      "15/15 [==============================] - 2s 119ms/step - loss: 0.5086 - accuracy: 0.8131 - val_loss: 0.4939 - val_accuracy: 0.8162\n",
      "Epoch 10/50\n",
      "15/15 [==============================] - 2s 119ms/step - loss: 0.4636 - accuracy: 0.8308 - val_loss: 0.5843 - val_accuracy: 0.7839\n",
      "Epoch 11/50\n",
      "15/15 [==============================] - 2s 118ms/step - loss: 0.4761 - accuracy: 0.8268 - val_loss: 0.5684 - val_accuracy: 0.7862\n",
      "Epoch 12/50\n",
      "15/15 [==============================] - 2s 117ms/step - loss: 0.4516 - accuracy: 0.8359 - val_loss: 0.4741 - val_accuracy: 0.8248\n",
      "Epoch 13/50\n",
      "15/15 [==============================] - 2s 116ms/step - loss: 0.4411 - accuracy: 0.8384 - val_loss: 0.4469 - val_accuracy: 0.8388\n",
      "Epoch 14/50\n",
      "15/15 [==============================] - 2s 117ms/step - loss: 0.4283 - accuracy: 0.8461 - val_loss: 0.4421 - val_accuracy: 0.8326\n",
      "Epoch 15/50\n",
      "15/15 [==============================] - 2s 119ms/step - loss: 0.4209 - accuracy: 0.8460 - val_loss: 0.4259 - val_accuracy: 0.8444\n",
      "Epoch 16/50\n",
      "15/15 [==============================] - 2s 116ms/step - loss: 0.4087 - accuracy: 0.8525 - val_loss: 0.4468 - val_accuracy: 0.8353\n",
      "Epoch 17/50\n",
      "15/15 [==============================] - 2s 115ms/step - loss: 0.4030 - accuracy: 0.8547 - val_loss: 0.4066 - val_accuracy: 0.8530\n",
      "Epoch 18/50\n",
      "15/15 [==============================] - 2s 116ms/step - loss: 0.3892 - accuracy: 0.8605 - val_loss: 0.4038 - val_accuracy: 0.8565\n",
      "Epoch 19/50\n",
      "15/15 [==============================] - 2s 124ms/step - loss: 0.3872 - accuracy: 0.8600 - val_loss: 0.3870 - val_accuracy: 0.8637\n",
      "Epoch 20/50\n",
      "15/15 [==============================] - 2s 122ms/step - loss: 0.3737 - accuracy: 0.8662 - val_loss: 0.4093 - val_accuracy: 0.8490\n",
      "Epoch 21/50\n",
      "15/15 [==============================] - 2s 123ms/step - loss: 0.3711 - accuracy: 0.8660 - val_loss: 0.3889 - val_accuracy: 0.8586\n",
      "Epoch 22/50\n",
      "15/15 [==============================] - 2s 147ms/step - loss: 0.3640 - accuracy: 0.8691 - val_loss: 0.3807 - val_accuracy: 0.8634\n",
      "Epoch 23/50\n",
      "15/15 [==============================] - 2s 134ms/step - loss: 0.3621 - accuracy: 0.8687 - val_loss: 0.3719 - val_accuracy: 0.8653\n",
      "Epoch 24/50\n",
      "15/15 [==============================] - 2s 130ms/step - loss: 0.3498 - accuracy: 0.8738 - val_loss: 0.3714 - val_accuracy: 0.8650\n",
      "Epoch 25/50\n",
      "15/15 [==============================] - 2s 122ms/step - loss: 0.3488 - accuracy: 0.8741 - val_loss: 0.3782 - val_accuracy: 0.8610\n",
      "Epoch 26/50\n",
      "15/15 [==============================] - 2s 121ms/step - loss: 0.3450 - accuracy: 0.8753 - val_loss: 0.3684 - val_accuracy: 0.8650\n",
      "Epoch 27/50\n",
      "15/15 [==============================] - 2s 120ms/step - loss: 0.3301 - accuracy: 0.8819 - val_loss: 0.3639 - val_accuracy: 0.8662\n",
      "Epoch 28/50\n",
      "15/15 [==============================] - 2s 128ms/step - loss: 0.3332 - accuracy: 0.8782 - val_loss: 0.3677 - val_accuracy: 0.8703\n",
      "Epoch 29/50\n",
      "15/15 [==============================] - 2s 122ms/step - loss: 0.3291 - accuracy: 0.8807 - val_loss: 0.3562 - val_accuracy: 0.8712\n",
      "Epoch 30/50\n",
      "15/15 [==============================] - 2s 121ms/step - loss: 0.3247 - accuracy: 0.8821 - val_loss: 0.3534 - val_accuracy: 0.8726\n",
      "Epoch 31/50\n",
      "15/15 [==============================] - 2s 127ms/step - loss: 0.3192 - accuracy: 0.8840 - val_loss: 0.3433 - val_accuracy: 0.8774\n",
      "Epoch 32/50\n",
      "15/15 [==============================] - 2s 123ms/step - loss: 0.3162 - accuracy: 0.8852 - val_loss: 0.3495 - val_accuracy: 0.8734\n",
      "Epoch 33/50\n",
      "15/15 [==============================] - 2s 123ms/step - loss: 0.3097 - accuracy: 0.8867 - val_loss: 0.3546 - val_accuracy: 0.8694\n",
      "Epoch 34/50\n",
      "15/15 [==============================] - 2s 121ms/step - loss: 0.3083 - accuracy: 0.8872 - val_loss: 0.3454 - val_accuracy: 0.8708\n",
      "Epoch 35/50\n",
      "15/15 [==============================] - 2s 122ms/step - loss: 0.3026 - accuracy: 0.8896 - val_loss: 0.3360 - val_accuracy: 0.8740\n",
      "Epoch 36/50\n",
      "15/15 [==============================] - 2s 129ms/step - loss: 0.3029 - accuracy: 0.8890 - val_loss: 0.3368 - val_accuracy: 0.8795\n",
      "Epoch 37/50\n",
      "15/15 [==============================] - 2s 131ms/step - loss: 0.2964 - accuracy: 0.8913 - val_loss: 0.3247 - val_accuracy: 0.8827\n",
      "Epoch 38/50\n",
      "15/15 [==============================] - 2s 126ms/step - loss: 0.2906 - accuracy: 0.8942 - val_loss: 0.3375 - val_accuracy: 0.8790\n",
      "Epoch 39/50\n",
      "15/15 [==============================] - 2s 122ms/step - loss: 0.2904 - accuracy: 0.8946 - val_loss: 0.3284 - val_accuracy: 0.8821\n",
      "Epoch 40/50\n",
      "15/15 [==============================] - 2s 122ms/step - loss: 0.2877 - accuracy: 0.8940 - val_loss: 0.3114 - val_accuracy: 0.8877\n",
      "Epoch 41/50\n",
      "15/15 [==============================] - 2s 122ms/step - loss: 0.2842 - accuracy: 0.8963 - val_loss: 0.3339 - val_accuracy: 0.8788\n",
      "Epoch 42/50\n",
      "15/15 [==============================] - 2s 123ms/step - loss: 0.2800 - accuracy: 0.8982 - val_loss: 0.3463 - val_accuracy: 0.8721\n",
      "Epoch 43/50\n",
      "15/15 [==============================] - 2s 120ms/step - loss: 0.2788 - accuracy: 0.8986 - val_loss: 0.3223 - val_accuracy: 0.8833\n",
      "Epoch 44/50\n",
      "15/15 [==============================] - 2s 116ms/step - loss: 0.2765 - accuracy: 0.8984 - val_loss: 0.3262 - val_accuracy: 0.8805\n",
      "Epoch 45/50\n",
      "15/15 [==============================] - 2s 120ms/step - loss: 0.2740 - accuracy: 0.8993 - val_loss: 0.3196 - val_accuracy: 0.8816\n",
      "Epoch 46/50\n",
      "15/15 [==============================] - 2s 117ms/step - loss: 0.2667 - accuracy: 0.9030 - val_loss: 0.3118 - val_accuracy: 0.8858\n",
      "Epoch 47/50\n",
      "15/15 [==============================] - 2s 128ms/step - loss: 0.2654 - accuracy: 0.9029 - val_loss: 0.3192 - val_accuracy: 0.8827\n",
      "Epoch 48/50\n",
      "15/15 [==============================] - 2s 117ms/step - loss: 0.2664 - accuracy: 0.9019 - val_loss: 0.3173 - val_accuracy: 0.8848\n",
      "Epoch 49/50\n",
      "15/15 [==============================] - 2s 118ms/step - loss: 0.2604 - accuracy: 0.9040 - val_loss: 0.3304 - val_accuracy: 0.8773\n",
      "Epoch 50/50\n",
      "15/15 [==============================] - 2s 117ms/step - loss: 0.2618 - accuracy: 0.9042 - val_loss: 0.2998 - val_accuracy: 0.8909\n"
     ]
    }
   ],
   "source": [
    "batch_size = 4096\n",
    "n_epoch = 50\n",
    "\n",
    "model.compile(loss='categorical_crossentropy', optimizer=RMSprop(), metrics=['accuracy'])\n",
    "history = model.fit(X_train, Y_train, batch_size=batch_size, epochs=n_epoch, verbose=1, validation_data=(X_test, Y_test))"
   ]
  },
  {
   "cell_type": "markdown",
   "id": "236760c8",
   "metadata": {},
   "source": [
    "## Result plots"
   ]
  },
  {
   "cell_type": "code",
   "execution_count": 35,
   "id": "81b0000b",
   "metadata": {},
   "outputs": [
    {
     "name": "stdout",
     "output_type": "stream",
     "text": [
      "Test score: 0.29982513189315796\n",
      "Test accuracy: 0.8909000158309937\n"
     ]
    },
    {
     "data": {
      "image/png": "[encoded data removed]",
      "text/plain": [
       "<Figure size 432x288 with 1 Axes>"
      ]
     },
     "metadata": {
      "needs_background": "light"
     },
     "output_type": "display_data"
    }
   ],
   "source": [
    "pl.plot(history.history['loss'], label='Training')\n",
    "pl.plot(history.history['val_loss'], label='Testing')\n",
    "pl.legend()\n",
    "pl.grid()\n",
    "\n",
    "score = model.evaluate(X_test, Y_test, verbose=0)\n",
    "print('Test score:', score[0])\n",
    "print('Test accuracy:', score[1])"
   ]
  },
  {
   "cell_type": "markdown",
   "id": "2acacb47",
   "metadata": {},
   "source": [
    "## Confusion Matrix"
   ]
  },
  {
   "cell_type": "code",
   "execution_count": 36,
   "id": "1218a656",
   "metadata": {},
   "outputs": [],
   "source": [
    "pred = model.predict_on_batch(X_test)\n",
    "pred = np.argmax(pred, axis=-1)\n",
    "cm = me.confusion_matrix(y_test, pred)"
   ]
  },
  {
   "cell_type": "code",
   "execution_count": 37,
   "id": "942315d2",
   "metadata": {},
   "outputs": [],
   "source": [
    "def display_conf_matrix(conf_matrix, classes_labels=['0', '1', '2', '3', '4','5','6','7','8','9']):\n",
    "    disp = me.ConfusionMatrixDisplay(confusion_matrix=cm, display_labels=classes_labels)\n",
    "    fig, ax = pl.subplots(figsize=(10,10))\n",
    "    disp.plot(ax=ax)"
   ]
  },
  {
   "cell_type": "code",
   "execution_count": 38,
   "id": "4ff0d3d7",
   "metadata": {},
   "outputs": [
    {
     "data": {
      "image/png": "[encoded data removed]",
      "text/plain": [
       "<Figure size 720x720 with 2 Axes>"
      ]
     },
     "metadata": {
      "needs_background": "light"
     },
     "output_type": "display_data"
    }
   ],
   "source": [
    "display_conf_matrix(cm, classes_labels=['0', '1', '2', '3', '4','5','6','7','8','9'])"
   ]
  },
  {
   "cell_type": "code",
   "execution_count": 39,
   "id": "80ba7265",
   "metadata": {},
   "outputs": [
    {
     "name": "stdout",
     "output_type": "stream",
     "text": [
      "F-score\n",
      "0.8909\n"
     ]
    }
   ],
   "source": [
    "import sklearn\n",
    "print(\"F-score\")\n",
    "f1 = sklearn.metrics.f1_score(y_test, pred, average=\"micro\")\n",
    "print(f1)"
   ]
  },
  {
   "cell_type": "code",
   "execution_count": null,
   "id": "15382a6a",
   "metadata": {},
   "outputs": [],
   "source": []
  },
  {
   "cell_type": "code",
   "execution_count": null,
   "id": "cc139794",
   "metadata": {},
   "outputs": [],
   "source": []
  }
 ],
 "metadata": {
  "kernelspec": {
   "display_name": "Python 3 (ipykernel)",
   "language": "python",
   "name": "python3"
  },
  "language_info": {
   "codemirror_mode": {
    "name": "ipython",
    "version": 3
   },
   "file_extension": ".py",
   "mimetype": "text/x-python",
   "name": "python",
   "nbconvert_exporter": "python",
   "pygments_lexer": "ipython3",
   "version": "3.8.5"
  }
 },
 "nbformat": 4,
 "nbformat_minor": 5
}
