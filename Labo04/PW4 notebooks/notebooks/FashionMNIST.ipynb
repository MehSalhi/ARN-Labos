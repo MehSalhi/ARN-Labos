{
 "cells": [
  {
   "cell_type": "markdown",
   "id": "534c7f55",
   "metadata": {},
   "source": [
    "# Fashion MNIST"
   ]
  },
  {
   "cell_type": "markdown",
   "id": "b38de9fa",
   "metadata": {},
   "source": [
    "Source of dataset\n",
    "https://keras.io/api/datasets/fashion_mnist/\n"
   ]
  },
  {
   "cell_type": "markdown",
   "id": "a9d8e1fa",
   "metadata": {},
   "source": [
    "# Code\n",
    "\n",
    "We copied and adapted the code from the provided CNN notebook. We also tried various parameters and pieces of code from the following website: https://machinelearningmastery.com/how-to-develop-a-cnn-from-scratch-for-fashion-mnist-clothing-classification/\n"
   ]
  },
  {
   "cell_type": "markdown",
   "id": "a7271f10",
   "metadata": {},
   "source": [
    "## Librairies and modules import"
   ]
  },
  {
   "cell_type": "code",
   "execution_count": 1,
   "id": "0698a07f",
   "metadata": {},
   "outputs": [
    {
     "name": "stdout",
     "output_type": "stream",
     "text": [
      "Requirement already satisfied: tensorflow in /home/kintaro/miniconda3/lib/python3.8/site-packages (2.8.0)\n",
      "Requirement already satisfied: tf-estimator-nightly==2.8.0.dev2021122109 in /home/kintaro/miniconda3/lib/python3.8/site-packages (from tensorflow) (2.8.0.dev2021122109)\n",
      "Requirement already satisfied: tensorflow-io-gcs-filesystem>=0.23.1 in /home/kintaro/miniconda3/lib/python3.8/site-packages (from tensorflow) (0.25.0)\n",
      "Requirement already satisfied: opt-einsum>=2.3.2 in /home/kintaro/miniconda3/lib/python3.8/site-packages (from tensorflow) (3.3.0)\n",
      "Requirement already satisfied: astunparse>=1.6.0 in /home/kintaro/miniconda3/lib/python3.8/site-packages (from tensorflow) (1.6.3)\n",
      "Requirement already satisfied: grpcio<2.0,>=1.24.3 in /home/kintaro/miniconda3/lib/python3.8/site-packages (from tensorflow) (1.44.0)\n",
      "Requirement already satisfied: typing-extensions>=3.6.6 in /home/kintaro/miniconda3/lib/python3.8/site-packages (from tensorflow) (4.1.1)\n",
      "Requirement already satisfied: termcolor>=1.1.0 in /home/kintaro/miniconda3/lib/python3.8/site-packages (from tensorflow) (1.1.0)\n",
      "Requirement already satisfied: numpy>=1.20 in /home/kintaro/miniconda3/lib/python3.8/site-packages (from tensorflow) (1.22.3)\n",
      "Requirement already satisfied: absl-py>=0.4.0 in /home/kintaro/miniconda3/lib/python3.8/site-packages (from tensorflow) (1.0.0)\n",
      "Requirement already satisfied: google-pasta>=0.1.1 in /home/kintaro/miniconda3/lib/python3.8/site-packages (from tensorflow) (0.2.0)\n",
      "Requirement already satisfied: protobuf>=3.9.2 in /home/kintaro/miniconda3/lib/python3.8/site-packages (from tensorflow) (3.20.1)\n",
      "Requirement already satisfied: keras-preprocessing>=1.1.1 in /home/kintaro/miniconda3/lib/python3.8/site-packages (from tensorflow) (1.1.2)\n",
      "Requirement already satisfied: h5py>=2.9.0 in /home/kintaro/miniconda3/lib/python3.8/site-packages (from tensorflow) (3.6.0)\n",
      "Requirement already satisfied: libclang>=9.0.1 in /home/kintaro/miniconda3/lib/python3.8/site-packages (from tensorflow) (14.0.1)\n",
      "Requirement already satisfied: gast>=0.2.1 in /home/kintaro/miniconda3/lib/python3.8/site-packages (from tensorflow) (0.5.3)\n",
      "Requirement already satisfied: setuptools in /home/kintaro/miniconda3/lib/python3.8/site-packages (from tensorflow) (58.0.4)\n",
      "Requirement already satisfied: tensorboard<2.9,>=2.8 in /home/kintaro/miniconda3/lib/python3.8/site-packages (from tensorflow) (2.8.0)\n",
      "Requirement already satisfied: six>=1.12.0 in /home/kintaro/miniconda3/lib/python3.8/site-packages (from tensorflow) (1.16.0)\n",
      "Requirement already satisfied: wrapt>=1.11.0 in /home/kintaro/miniconda3/lib/python3.8/site-packages (from tensorflow) (1.14.0)\n",
      "Requirement already satisfied: keras<2.9,>=2.8.0rc0 in /home/kintaro/miniconda3/lib/python3.8/site-packages (from tensorflow) (2.8.0)\n",
      "Requirement already satisfied: flatbuffers>=1.12 in /home/kintaro/miniconda3/lib/python3.8/site-packages (from tensorflow) (2.0)\n",
      "Requirement already satisfied: wheel<1.0,>=0.23.0 in /home/kintaro/miniconda3/lib/python3.8/site-packages (from astunparse>=1.6.0->tensorflow) (0.37.1)\n",
      "Requirement already satisfied: markdown>=2.6.8 in /home/kintaro/miniconda3/lib/python3.8/site-packages (from tensorboard<2.9,>=2.8->tensorflow) (3.3.6)\n",
      "Requirement already satisfied: tensorboard-data-server<0.7.0,>=0.6.0 in /home/kintaro/miniconda3/lib/python3.8/site-packages (from tensorboard<2.9,>=2.8->tensorflow) (0.6.1)\n",
      "Requirement already satisfied: google-auth-oauthlib<0.5,>=0.4.1 in /home/kintaro/miniconda3/lib/python3.8/site-packages (from tensorboard<2.9,>=2.8->tensorflow) (0.4.6)\n",
      "Requirement already satisfied: werkzeug>=0.11.15 in /home/kintaro/miniconda3/lib/python3.8/site-packages (from tensorboard<2.9,>=2.8->tensorflow) (2.1.1)\n",
      "Requirement already satisfied: google-auth<3,>=1.6.3 in /home/kintaro/miniconda3/lib/python3.8/site-packages (from tensorboard<2.9,>=2.8->tensorflow) (2.6.6)\n",
      "Requirement already satisfied: requests<3,>=2.21.0 in /home/kintaro/miniconda3/lib/python3.8/site-packages (from tensorboard<2.9,>=2.8->tensorflow) (2.27.1)\n",
      "Requirement already satisfied: tensorboard-plugin-wit>=1.6.0 in /home/kintaro/miniconda3/lib/python3.8/site-packages (from tensorboard<2.9,>=2.8->tensorflow) (1.8.1)\n",
      "Requirement already satisfied: pyasn1-modules>=0.2.1 in /home/kintaro/miniconda3/lib/python3.8/site-packages (from google-auth<3,>=1.6.3->tensorboard<2.9,>=2.8->tensorflow) (0.2.8)\n",
      "Requirement already satisfied: rsa<5,>=3.1.4 in /home/kintaro/miniconda3/lib/python3.8/site-packages (from google-auth<3,>=1.6.3->tensorboard<2.9,>=2.8->tensorflow) (4.8)\n",
      "Requirement already satisfied: cachetools<6.0,>=2.0.0 in /home/kintaro/miniconda3/lib/python3.8/site-packages (from google-auth<3,>=1.6.3->tensorboard<2.9,>=2.8->tensorflow) (5.0.0)\n",
      "Requirement already satisfied: requests-oauthlib>=0.7.0 in /home/kintaro/miniconda3/lib/python3.8/site-packages (from google-auth-oauthlib<0.5,>=0.4.1->tensorboard<2.9,>=2.8->tensorflow) (1.3.1)\n",
      "Requirement already satisfied: importlib-metadata>=4.4 in /home/kintaro/miniconda3/lib/python3.8/site-packages (from markdown>=2.6.8->tensorboard<2.9,>=2.8->tensorflow) (4.8.2)\n",
      "Requirement already satisfied: zipp>=0.5 in /home/kintaro/miniconda3/lib/python3.8/site-packages (from importlib-metadata>=4.4->markdown>=2.6.8->tensorboard<2.9,>=2.8->tensorflow) (3.7.0)\n",
      "Requirement already satisfied: pyasn1<0.5.0,>=0.4.6 in /home/kintaro/miniconda3/lib/python3.8/site-packages (from pyasn1-modules>=0.2.1->google-auth<3,>=1.6.3->tensorboard<2.9,>=2.8->tensorflow) (0.4.8)\n",
      "Requirement already satisfied: certifi>=2017.4.17 in /home/kintaro/miniconda3/lib/python3.8/site-packages (from requests<3,>=2.21.0->tensorboard<2.9,>=2.8->tensorflow) (2021.10.8)\n",
      "Requirement already satisfied: urllib3<1.27,>=1.21.1 in /home/kintaro/miniconda3/lib/python3.8/site-packages (from requests<3,>=2.21.0->tensorboard<2.9,>=2.8->tensorflow) (1.26.8)\n",
      "Requirement already satisfied: charset-normalizer~=2.0.0 in /home/kintaro/miniconda3/lib/python3.8/site-packages (from requests<3,>=2.21.0->tensorboard<2.9,>=2.8->tensorflow) (2.0.4)\n",
      "Requirement already satisfied: idna<4,>=2.5 in /home/kintaro/miniconda3/lib/python3.8/site-packages (from requests<3,>=2.21.0->tensorboard<2.9,>=2.8->tensorflow) (3.3)\n",
      "Requirement already satisfied: oauthlib>=3.0.0 in /home/kintaro/miniconda3/lib/python3.8/site-packages (from requests-oauthlib>=0.7.0->google-auth-oauthlib<0.5,>=0.4.1->tensorboard<2.9,>=2.8->tensorflow) (3.2.0)\n",
      "Note: you may need to restart the kernel to use updated packages.\n",
      "Requirement already satisfied: keras in /home/kintaro/miniconda3/lib/python3.8/site-packages (2.8.0)\n",
      "Note: you may need to restart the kernel to use updated packages.\n"
     ]
    },
    {
     "name": "stderr",
     "output_type": "stream",
     "text": [
      "2022-05-12 20:17:53.467358: W tensorflow/stream_executor/platform/default/dso_loader.cc:64] Could not load dynamic library 'libcudart.so.11.0'; dlerror: libcudart.so.11.0: cannot open shared object file: No such file or directory\n",
      "2022-05-12 20:17:53.467370: I tensorflow/stream_executor/cuda/cudart_stub.cc:29] Ignore above cudart dlerror if you do not have a GPU set up on your machine.\n"
     ]
    }
   ],
   "source": [
    "%pip install tensorflow --upgrade\n",
    "%pip install keras --upgrade\n",
    "\n",
    "# example of loading the fashion mnist dataset\n",
    "from matplotlib import pyplot\n",
    "\n",
    "import numpy as np\n",
    "from matplotlib import pyplot as pl\n",
    "\n",
    "from keras.datasets import mnist\n",
    "from keras.models import Model\n",
    "from keras.layers.core import Dense, Dropout, Flatten\n",
    "from tensorflow.keras.optimizers import RMSprop\n",
    "from keras.utils import np_utils\n",
    "from keras.layers.convolutional import Conv2D, MaxPooling2D\n",
    "from keras.layers import Input\n",
    "from sklearn import metrics as me\n",
    "from scipy import stats\n",
    "\n",
    "%matplotlib inline"
   ]
  },
  {
   "cell_type": "markdown",
   "id": "8573fdd2",
   "metadata": {},
   "source": [
    "## Dataset load"
   ]
  },
  {
   "cell_type": "code",
   "execution_count": 8,
   "id": "87852c82",
   "metadata": {},
   "outputs": [],
   "source": [
    "# Load the dataset\n",
    "from keras.datasets import fashion_mnist\n",
    "# load dataset\n",
    "(X_train, y_train), (X_test, y_test) = fashion_mnist.load_data()\n",
    "\n",
    "# Check the size\n",
    "assert X_train.shape == (60000, 28, 28)\n",
    "assert X_test.shape == (10000, 28, 28)\n",
    "assert y_train.shape == (60000,)\n",
    "assert y_test.shape == (10000,)"
   ]
  },
  {
   "cell_type": "markdown",
   "id": "19794632",
   "metadata": {},
   "source": [
    "## Dataset summary"
   ]
  },
  {
   "cell_type": "code",
   "execution_count": 9,
   "id": "de614b75",
   "metadata": {},
   "outputs": [
    {
     "name": "stdout",
     "output_type": "stream",
     "text": [
      "Train: X=(60000, 28, 28), y=(60000,)\n",
      "Test: X=(10000, 28, 28), y=(10000,)\n"
     ]
    },
    {
     "data": {
      "image/png": "[encoded data removed]",
      "text/plain": [
       "<Figure size 432x288 with 9 Axes>"
      ]
     },
     "metadata": {
      "needs_background": "light"
     },
     "output_type": "display_data"
    }
   ],
   "source": [
    "# source: https://machinelearningmastery.com/how-to-develop-a-cnn-from-scratch-for-fashion-mnist-clothing-classification/\n",
    "# summarize loaded dataset\n",
    "print('Train: X=%s, y=%s' % (X_train.shape, y_train.shape))\n",
    "print('Test: X=%s, y=%s' % (X_test.shape, y_test.shape))\n",
    "# plot first few images\n",
    "for i in range(9):\n",
    "    # define subplot\n",
    "    pyplot.subplot(330 + 1 + i)\n",
    "    # plot raw pixel data\n",
    "    pyplot.imshow(X_train[i], cmap=pyplot.get_cmap('gray'))\n",
    "# show the figure\n",
    "pyplot.show()\n",
    "\n"
   ]
  },
  {
   "cell_type": "markdown",
   "id": "94ba34a5",
   "metadata": {},
   "source": [
    "## Utility functions"
   ]
  },
  {
   "cell_type": "code",
   "execution_count": 10,
   "id": "841720df",
   "metadata": {},
   "outputs": [],
   "source": [
    "def build_grid_of_images(array):\n",
    "    assert len(array.shape) == 3\n",
    "    dim_0 = np.sqrt(array.shape[0])\n",
    "    assert dim_0.is_integer()\n",
    "    \n",
    "    temp_out = np.reshape(array, (dim_0, dim_0, array.shape[1], array.shape[2]))\n",
    "    temp_out = np.rollaxis(temp_out, 1, 3)\n",
    "    return np.reshape(temp_out, (dim_0*array.shape[1], dim_0*array.shape[2]))\n",
    "\n",
    "def plot_conv_layer_output(temp_out, title):\n",
    "    temp_to_plot = build_grid_of_images(temp_out)\n",
    "    pl.imshow(temp_to_plot, interpolation='nearest', cmap=pl.get_cmap('Greys'))\n",
    "    ax = pl.gca()\n",
    "    ax.set_xticks(np.arange(-0.5, temp_to_plot.shape[0]+0.5, temp_out.shape[1]))    \n",
    "    ax.set_yticks(np.arange(-0.5, temp_to_plot.shape[0]+0.5, temp_out.shape[2]))\n",
    "    pl.grid()\n",
    "    pl.tick_params(axis='both', which='both', bottom='off', top='off', left='off', right='off', labelbottom='off', labelleft='off')\n",
    "    pl.title(title)\n",
    "\n",
    "def plot_dense_layer_output(temp_out, title):\n",
    "    pl.bar(np.arange(temp_out.shape[1])-0.4, temp_out[0,:])\n",
    "    pl.xlim(-0.5, temp_out.shape[1])\n",
    "    pl.grid()\n",
    "    pl.title(title)"
   ]
  },
  {
   "cell_type": "markdown",
   "id": "463c88ae",
   "metadata": {},
   "source": [
    "## Normalization and formatting of dataset"
   ]
  },
  {
   "cell_type": "code",
   "execution_count": 11,
   "id": "fd820ef1",
   "metadata": {},
   "outputs": [
    {
     "name": "stdout",
     "output_type": "stream",
     "text": [
      "60000 train samples\n",
      "10000 test samples\n"
     ]
    }
   ],
   "source": [
    "n_train, height, width = X_train.shape\n",
    "n_test, _, _ = X_test.shape\n",
    "\n",
    "X_train = X_train.reshape(n_train, height, width, 1).astype('float32')\n",
    "X_test = X_test.reshape(n_test, height, width, 1).astype('float32')\n",
    "\n",
    "X_train /= 255.0\n",
    "X_test /= 255.0\n",
    "\n",
    "n_classes = 10\n",
    "\n",
    "print(n_train, 'train samples')\n",
    "print(n_test, 'test samples')\n",
    "\n",
    "# convert class vectors to binary class matrices\n",
    "Y_train = np_utils.to_categorical(y_train, n_classes)\n",
    "Y_test = np_utils.to_categorical(y_test, n_classes)"
   ]
  },
  {
   "cell_type": "markdown",
   "id": "64cd963a",
   "metadata": {},
   "source": [
    "# CNN Model setting"
   ]
  },
  {
   "cell_type": "code",
   "execution_count": 23,
   "id": "279266d3",
   "metadata": {},
   "outputs": [],
   "source": [
    "l0 = Input(shape=(height, width, 1), name='l0')\n",
    "#l1 = Conv2D(9, (5, 5), padding='same', activation='relu', kernel_initializer='he_uniform', name='l1')(l0)\n",
    "l1 = Conv2D(9, (3, 3), padding='same', activation='relu', name='l1')(l0)\n",
    "l1_mp = MaxPooling2D(pool_size=(2, 2), name='l1_mp')(l1)\n",
    "\n",
    "#l2 = Conv2D(9, (3,3), padding='same', activation='relu', name='l2')(l1_mp)\n",
    "#l2_mp = MaxPooling2D(pool_size=(2, 2), name='l2_mp')(l2)\n",
    "\n",
    "#l3 = Conv2D(16, (3, 3), padding='same', activation='relu', name='l3')(l2_mp)\n",
    "#l3_mp = MaxPooling2D(pool_size=(2, 2), name='l3_mp')(l3)\n",
    "\n"
   ]
  },
  {
   "cell_type": "code",
   "execution_count": 31,
   "id": "8e70b379",
   "metadata": {},
   "outputs": [
    {
     "name": "stdout",
     "output_type": "stream",
     "text": [
      "Model: \"model_3\"\n",
      "_________________________________________________________________\n",
      " Layer (type)                Output Shape              Param #   \n",
      "=================================================================\n",
      " l0 (InputLayer)             [(None, 28, 28, 1)]       0         \n",
      "                                                                 \n",
      " l1 (Conv2D)                 (None, 28, 28, 9)         90        \n",
      "                                                                 \n",
      " l1_mp (MaxPooling2D)        (None, 14, 14, 9)         0         \n",
      "                                                                 \n",
      " flat (Flatten)              (None, 1764)              0         \n",
      "                                                                 \n",
      " l4 (Dense)                  (None, 25)                44125     \n",
      "                                                                 \n",
      " l4_2 (Dense)                (None, 25)                650       \n",
      "                                                                 \n",
      " l5 (Dense)                  (None, 10)                260       \n",
      "                                                                 \n",
      "=================================================================\n",
      "Total params: 45,125\n",
      "Trainable params: 45,125\n",
      "Non-trainable params: 0\n",
      "_________________________________________________________________\n"
     ]
    }
   ],
   "source": [
    "flat = Flatten(name='flat')(l1_mp)\n",
    "\n",
    "#l4 = Dense(100, activation='relu', name='l4')(flat)\n",
    "l4 = Dense(100, activation='relu', name='l4')(flat)\n",
    "\n",
    "l5 = Dense(n_classes, activation='softmax', name='l5')(l4_2)\n",
    "\n",
    "model = Model(inputs=l0, outputs=l5)\n",
    "model.summary()"
   ]
  },
  {
   "cell_type": "code",
   "execution_count": 32,
   "id": "7d31f994",
   "metadata": {},
   "outputs": [
    {
     "name": "stdout",
     "output_type": "stream",
     "text": [
      "Epoch 1/100\n",
      "15/15 [==============================] - 2s 122ms/step - loss: 2.3599 - accuracy: 0.3310 - val_loss: 1.3677 - val_accuracy: 0.5599\n",
      "Epoch 2/100\n",
      "15/15 [==============================] - 2s 114ms/step - loss: 1.1067 - accuracy: 0.6577 - val_loss: 0.8864 - val_accuracy: 0.7233\n",
      "Epoch 3/100\n",
      "15/15 [==============================] - 2s 115ms/step - loss: 0.7796 - accuracy: 0.7593 - val_loss: 0.7370 - val_accuracy: 0.7436\n",
      "Epoch 4/100\n",
      "15/15 [==============================] - 2s 116ms/step - loss: 0.6416 - accuracy: 0.7894 - val_loss: 0.6377 - val_accuracy: 0.7669\n",
      "Epoch 5/100\n",
      "15/15 [==============================] - 2s 113ms/step - loss: 0.5749 - accuracy: 0.7999 - val_loss: 0.5476 - val_accuracy: 0.8088\n",
      "Epoch 6/100\n",
      "15/15 [==============================] - 2s 117ms/step - loss: 0.5247 - accuracy: 0.8146 - val_loss: 0.5279 - val_accuracy: 0.8037\n",
      "Epoch 7/100\n",
      "15/15 [==============================] - 2s 115ms/step - loss: 0.5010 - accuracy: 0.8208 - val_loss: 0.5021 - val_accuracy: 0.8159\n",
      "Epoch 8/100\n",
      "15/15 [==============================] - 2s 115ms/step - loss: 0.4687 - accuracy: 0.8313 - val_loss: 0.5162 - val_accuracy: 0.8130\n",
      "Epoch 9/100\n",
      "15/15 [==============================] - 2s 117ms/step - loss: 0.4604 - accuracy: 0.8355 - val_loss: 0.4509 - val_accuracy: 0.8432\n",
      "Epoch 10/100\n",
      "15/15 [==============================] - 2s 117ms/step - loss: 0.4359 - accuracy: 0.8467 - val_loss: 0.4534 - val_accuracy: 0.8349\n",
      "Epoch 11/100\n",
      "15/15 [==============================] - 2s 118ms/step - loss: 0.4367 - accuracy: 0.8435 - val_loss: 0.4414 - val_accuracy: 0.8422\n",
      "Epoch 12/100\n",
      "15/15 [==============================] - 2s 122ms/step - loss: 0.4280 - accuracy: 0.8463 - val_loss: 0.4265 - val_accuracy: 0.8488\n",
      "Epoch 13/100\n",
      "15/15 [==============================] - 2s 128ms/step - loss: 0.4076 - accuracy: 0.8564 - val_loss: 0.4491 - val_accuracy: 0.8390\n",
      "Epoch 14/100\n",
      "15/15 [==============================] - 2s 130ms/step - loss: 0.4095 - accuracy: 0.8540 - val_loss: 0.4235 - val_accuracy: 0.8494\n",
      "Epoch 15/100\n",
      "15/15 [==============================] - 2s 121ms/step - loss: 0.4030 - accuracy: 0.8564 - val_loss: 0.4144 - val_accuracy: 0.8517\n",
      "Epoch 16/100\n",
      "15/15 [==============================] - 2s 114ms/step - loss: 0.3908 - accuracy: 0.8615 - val_loss: 0.4127 - val_accuracy: 0.8530\n",
      "Epoch 17/100\n",
      "15/15 [==============================] - 2s 112ms/step - loss: 0.3848 - accuracy: 0.8634 - val_loss: 0.4016 - val_accuracy: 0.8570\n",
      "Epoch 18/100\n",
      "15/15 [==============================] - 2s 116ms/step - loss: 0.3880 - accuracy: 0.8611 - val_loss: 0.4160 - val_accuracy: 0.8537\n",
      "Epoch 19/100\n",
      "15/15 [==============================] - 2s 115ms/step - loss: 0.3713 - accuracy: 0.8687 - val_loss: 0.4493 - val_accuracy: 0.8337\n",
      "Epoch 20/100\n",
      "15/15 [==============================] - 2s 118ms/step - loss: 0.3791 - accuracy: 0.8642 - val_loss: 0.3970 - val_accuracy: 0.8556\n",
      "Epoch 21/100\n",
      "15/15 [==============================] - 2s 117ms/step - loss: 0.3640 - accuracy: 0.8705 - val_loss: 0.3884 - val_accuracy: 0.8623\n",
      "Epoch 22/100\n",
      "15/15 [==============================] - 2s 120ms/step - loss: 0.3635 - accuracy: 0.8715 - val_loss: 0.3787 - val_accuracy: 0.8672\n",
      "Epoch 23/100\n",
      "15/15 [==============================] - 2s 121ms/step - loss: 0.3629 - accuracy: 0.8698 - val_loss: 0.3802 - val_accuracy: 0.8655\n",
      "Epoch 24/100\n",
      "15/15 [==============================] - 2s 116ms/step - loss: 0.3574 - accuracy: 0.8717 - val_loss: 0.3882 - val_accuracy: 0.8595\n",
      "Epoch 25/100\n",
      "15/15 [==============================] - 2s 117ms/step - loss: 0.3539 - accuracy: 0.8736 - val_loss: 0.3963 - val_accuracy: 0.8544\n",
      "Epoch 26/100\n",
      "15/15 [==============================] - 2s 115ms/step - loss: 0.3419 - accuracy: 0.8784 - val_loss: 0.3896 - val_accuracy: 0.8604\n",
      "Epoch 27/100\n",
      "15/15 [==============================] - 2s 119ms/step - loss: 0.3514 - accuracy: 0.8738 - val_loss: 0.3779 - val_accuracy: 0.8656\n",
      "Epoch 28/100\n",
      "15/15 [==============================] - 2s 119ms/step - loss: 0.3452 - accuracy: 0.8765 - val_loss: 0.3778 - val_accuracy: 0.8660\n",
      "Epoch 29/100\n",
      "15/15 [==============================] - 2s 124ms/step - loss: 0.3381 - accuracy: 0.8791 - val_loss: 0.3701 - val_accuracy: 0.8650\n",
      "Epoch 30/100\n",
      "15/15 [==============================] - 2s 119ms/step - loss: 0.3340 - accuracy: 0.8808 - val_loss: 0.3717 - val_accuracy: 0.8679\n",
      "Epoch 31/100\n",
      "15/15 [==============================] - 2s 117ms/step - loss: 0.3377 - accuracy: 0.8787 - val_loss: 0.3574 - val_accuracy: 0.8698\n",
      "Epoch 32/100\n",
      "15/15 [==============================] - 2s 116ms/step - loss: 0.3343 - accuracy: 0.8794 - val_loss: 0.3610 - val_accuracy: 0.8702\n",
      "Epoch 33/100\n",
      "15/15 [==============================] - 2s 118ms/step - loss: 0.3288 - accuracy: 0.8828 - val_loss: 0.3541 - val_accuracy: 0.8706\n",
      "Epoch 34/100\n",
      "15/15 [==============================] - 2s 119ms/step - loss: 0.3267 - accuracy: 0.8816 - val_loss: 0.3562 - val_accuracy: 0.8701\n",
      "Epoch 35/100\n",
      "15/15 [==============================] - 2s 123ms/step - loss: 0.3251 - accuracy: 0.8829 - val_loss: 0.3662 - val_accuracy: 0.8687\n",
      "Epoch 36/100\n",
      "15/15 [==============================] - 2s 132ms/step - loss: 0.3234 - accuracy: 0.8831 - val_loss: 0.3402 - val_accuracy: 0.8804\n",
      "Epoch 37/100\n",
      "15/15 [==============================] - 2s 119ms/step - loss: 0.3157 - accuracy: 0.8865 - val_loss: 0.3931 - val_accuracy: 0.8575\n",
      "Epoch 38/100\n",
      "15/15 [==============================] - 2s 125ms/step - loss: 0.3170 - accuracy: 0.8850 - val_loss: 0.3485 - val_accuracy: 0.8721\n",
      "Epoch 39/100\n",
      "15/15 [==============================] - 2s 120ms/step - loss: 0.3166 - accuracy: 0.8851 - val_loss: 0.3672 - val_accuracy: 0.8631\n",
      "Epoch 40/100\n",
      "15/15 [==============================] - 2s 122ms/step - loss: 0.3166 - accuracy: 0.8851 - val_loss: 0.3566 - val_accuracy: 0.8720\n",
      "Epoch 41/100\n",
      "15/15 [==============================] - 2s 119ms/step - loss: 0.3096 - accuracy: 0.8881 - val_loss: 0.3524 - val_accuracy: 0.8685\n",
      "Epoch 42/100\n",
      "15/15 [==============================] - 2s 123ms/step - loss: 0.3105 - accuracy: 0.8871 - val_loss: 0.3508 - val_accuracy: 0.8723\n",
      "Epoch 43/100\n",
      "15/15 [==============================] - 2s 125ms/step - loss: 0.3052 - accuracy: 0.8899 - val_loss: 0.3542 - val_accuracy: 0.8727\n",
      "Epoch 44/100\n",
      "15/15 [==============================] - 2s 121ms/step - loss: 0.3086 - accuracy: 0.8867 - val_loss: 0.3440 - val_accuracy: 0.8784\n",
      "Epoch 45/100\n",
      "15/15 [==============================] - 2s 120ms/step - loss: 0.3024 - accuracy: 0.8908 - val_loss: 0.3413 - val_accuracy: 0.8767\n",
      "Epoch 46/100\n",
      "15/15 [==============================] - 2s 117ms/step - loss: 0.3017 - accuracy: 0.8910 - val_loss: 0.3372 - val_accuracy: 0.8789\n",
      "Epoch 47/100\n",
      "15/15 [==============================] - 2s 120ms/step - loss: 0.2987 - accuracy: 0.8914 - val_loss: 0.3512 - val_accuracy: 0.8685\n",
      "Epoch 48/100\n",
      "15/15 [==============================] - 2s 129ms/step - loss: 0.3009 - accuracy: 0.8908 - val_loss: 0.3281 - val_accuracy: 0.8809\n",
      "Epoch 49/100\n",
      "15/15 [==============================] - 2s 129ms/step - loss: 0.2969 - accuracy: 0.8920 - val_loss: 0.3316 - val_accuracy: 0.8810\n",
      "Epoch 50/100\n",
      "15/15 [==============================] - 2s 131ms/step - loss: 0.2922 - accuracy: 0.8941 - val_loss: 0.3363 - val_accuracy: 0.8786\n",
      "Epoch 51/100\n",
      "15/15 [==============================] - 2s 120ms/step - loss: 0.2987 - accuracy: 0.8914 - val_loss: 0.3368 - val_accuracy: 0.8793\n",
      "Epoch 52/100\n",
      "15/15 [==============================] - 2s 119ms/step - loss: 0.2945 - accuracy: 0.8925 - val_loss: 0.3181 - val_accuracy: 0.8855\n",
      "Epoch 53/100\n",
      "15/15 [==============================] - 2s 117ms/step - loss: 0.2901 - accuracy: 0.8942 - val_loss: 0.3391 - val_accuracy: 0.8726\n",
      "Epoch 54/100\n",
      "15/15 [==============================] - 2s 116ms/step - loss: 0.2878 - accuracy: 0.8950 - val_loss: 0.3463 - val_accuracy: 0.8747\n",
      "Epoch 55/100\n",
      "15/15 [==============================] - 2s 120ms/step - loss: 0.2859 - accuracy: 0.8964 - val_loss: 0.3542 - val_accuracy: 0.8740\n",
      "Epoch 56/100\n",
      "15/15 [==============================] - 2s 119ms/step - loss: 0.2898 - accuracy: 0.8944 - val_loss: 0.3278 - val_accuracy: 0.8823\n",
      "Epoch 57/100\n",
      "15/15 [==============================] - 2s 118ms/step - loss: 0.2844 - accuracy: 0.8960 - val_loss: 0.3307 - val_accuracy: 0.8797\n"
     ]
    },
    {
     "name": "stdout",
     "output_type": "stream",
     "text": [
      "Epoch 58/100\n",
      "15/15 [==============================] - 2s 117ms/step - loss: 0.2848 - accuracy: 0.8966 - val_loss: 0.3219 - val_accuracy: 0.8844\n",
      "Epoch 59/100\n",
      "15/15 [==============================] - 2s 118ms/step - loss: 0.2813 - accuracy: 0.8975 - val_loss: 0.3176 - val_accuracy: 0.8856\n",
      "Epoch 60/100\n",
      "15/15 [==============================] - 2s 118ms/step - loss: 0.2815 - accuracy: 0.8980 - val_loss: 0.3353 - val_accuracy: 0.8785\n",
      "Epoch 61/100\n",
      "15/15 [==============================] - 2s 117ms/step - loss: 0.2781 - accuracy: 0.8986 - val_loss: 0.3266 - val_accuracy: 0.8789\n",
      "Epoch 62/100\n",
      "15/15 [==============================] - 2s 118ms/step - loss: 0.2779 - accuracy: 0.8981 - val_loss: 0.3238 - val_accuracy: 0.8797\n",
      "Epoch 63/100\n",
      "15/15 [==============================] - 2s 120ms/step - loss: 0.2806 - accuracy: 0.8982 - val_loss: 0.3192 - val_accuracy: 0.8833\n",
      "Epoch 64/100\n",
      "15/15 [==============================] - 2s 120ms/step - loss: 0.2724 - accuracy: 0.9010 - val_loss: 0.3192 - val_accuracy: 0.8845\n",
      "Epoch 65/100\n",
      "15/15 [==============================] - 2s 119ms/step - loss: 0.2749 - accuracy: 0.9005 - val_loss: 0.3243 - val_accuracy: 0.8800\n",
      "Epoch 66/100\n",
      "15/15 [==============================] - 2s 119ms/step - loss: 0.2718 - accuracy: 0.9015 - val_loss: 0.3241 - val_accuracy: 0.8814\n",
      "Epoch 67/100\n",
      "15/15 [==============================] - 2s 119ms/step - loss: 0.2705 - accuracy: 0.9021 - val_loss: 0.3240 - val_accuracy: 0.8824\n",
      "Epoch 68/100\n",
      "15/15 [==============================] - 2s 118ms/step - loss: 0.2697 - accuracy: 0.9017 - val_loss: 0.3119 - val_accuracy: 0.8862\n",
      "Epoch 69/100\n",
      "15/15 [==============================] - 2s 119ms/step - loss: 0.2700 - accuracy: 0.9010 - val_loss: 0.3277 - val_accuracy: 0.8799\n",
      "Epoch 70/100\n",
      "15/15 [==============================] - 2s 117ms/step - loss: 0.2674 - accuracy: 0.9034 - val_loss: 0.3247 - val_accuracy: 0.8823\n",
      "Epoch 71/100\n",
      "15/15 [==============================] - 2s 119ms/step - loss: 0.2678 - accuracy: 0.9020 - val_loss: 0.3085 - val_accuracy: 0.8868\n",
      "Epoch 72/100\n",
      "15/15 [==============================] - 2s 117ms/step - loss: 0.2643 - accuracy: 0.9035 - val_loss: 0.3173 - val_accuracy: 0.8824\n",
      "Epoch 73/100\n",
      "15/15 [==============================] - 2s 117ms/step - loss: 0.2638 - accuracy: 0.9044 - val_loss: 0.3267 - val_accuracy: 0.8805\n",
      "Epoch 74/100\n",
      "15/15 [==============================] - 2s 121ms/step - loss: 0.2606 - accuracy: 0.9052 - val_loss: 0.3137 - val_accuracy: 0.8841\n",
      "Epoch 75/100\n",
      "15/15 [==============================] - 2s 122ms/step - loss: 0.2620 - accuracy: 0.9049 - val_loss: 0.3156 - val_accuracy: 0.8856\n",
      "Epoch 76/100\n",
      "15/15 [==============================] - 2s 121ms/step - loss: 0.2620 - accuracy: 0.9046 - val_loss: 0.3157 - val_accuracy: 0.8850\n",
      "Epoch 77/100\n",
      "15/15 [==============================] - 2s 123ms/step - loss: 0.2554 - accuracy: 0.9075 - val_loss: 0.3046 - val_accuracy: 0.8894\n",
      "Epoch 78/100\n",
      "15/15 [==============================] - 2s 120ms/step - loss: 0.2609 - accuracy: 0.9053 - val_loss: 0.3056 - val_accuracy: 0.8883\n",
      "Epoch 79/100\n",
      "15/15 [==============================] - 2s 131ms/step - loss: 0.2590 - accuracy: 0.9062 - val_loss: 0.3108 - val_accuracy: 0.8840\n",
      "Epoch 80/100\n",
      "15/15 [==============================] - 2s 131ms/step - loss: 0.2528 - accuracy: 0.9080 - val_loss: 0.3128 - val_accuracy: 0.8869\n",
      "Epoch 81/100\n",
      "15/15 [==============================] - 2s 136ms/step - loss: 0.2545 - accuracy: 0.9071 - val_loss: 0.3221 - val_accuracy: 0.8831\n",
      "Epoch 82/100\n",
      "15/15 [==============================] - 2s 129ms/step - loss: 0.2537 - accuracy: 0.9079 - val_loss: 0.3137 - val_accuracy: 0.8836\n",
      "Epoch 83/100\n",
      "15/15 [==============================] - 2s 125ms/step - loss: 0.2488 - accuracy: 0.9101 - val_loss: 0.3356 - val_accuracy: 0.8812\n",
      "Epoch 84/100\n",
      "15/15 [==============================] - 2s 120ms/step - loss: 0.2558 - accuracy: 0.9074 - val_loss: 0.3108 - val_accuracy: 0.8888\n",
      "Epoch 85/100\n",
      "15/15 [==============================] - 2s 119ms/step - loss: 0.2486 - accuracy: 0.9095 - val_loss: 0.3267 - val_accuracy: 0.8807\n",
      "Epoch 86/100\n",
      "15/15 [==============================] - 2s 118ms/step - loss: 0.2505 - accuracy: 0.9082 - val_loss: 0.3052 - val_accuracy: 0.8911\n",
      "Epoch 87/100\n",
      "15/15 [==============================] - 2s 120ms/step - loss: 0.2490 - accuracy: 0.9095 - val_loss: 0.3117 - val_accuracy: 0.8846\n",
      "Epoch 88/100\n",
      "15/15 [==============================] - 2s 117ms/step - loss: 0.2472 - accuracy: 0.9102 - val_loss: 0.3137 - val_accuracy: 0.8846\n",
      "Epoch 89/100\n",
      "15/15 [==============================] - 2s 122ms/step - loss: 0.2451 - accuracy: 0.9110 - val_loss: 0.3157 - val_accuracy: 0.8858\n",
      "Epoch 90/100\n",
      "15/15 [==============================] - 2s 119ms/step - loss: 0.2472 - accuracy: 0.9107 - val_loss: 0.3036 - val_accuracy: 0.8905\n",
      "Epoch 91/100\n",
      "15/15 [==============================] - 2s 118ms/step - loss: 0.2427 - accuracy: 0.9121 - val_loss: 0.3205 - val_accuracy: 0.8829\n",
      "Epoch 92/100\n",
      "15/15 [==============================] - 2s 118ms/step - loss: 0.2457 - accuracy: 0.9106 - val_loss: 0.2949 - val_accuracy: 0.8950\n",
      "Epoch 93/100\n",
      "15/15 [==============================] - 2s 117ms/step - loss: 0.2408 - accuracy: 0.9122 - val_loss: 0.2962 - val_accuracy: 0.8914\n",
      "Epoch 94/100\n",
      "15/15 [==============================] - 2s 120ms/step - loss: 0.2433 - accuracy: 0.9114 - val_loss: 0.3037 - val_accuracy: 0.8893\n",
      "Epoch 95/100\n",
      "15/15 [==============================] - 2s 116ms/step - loss: 0.2391 - accuracy: 0.9125 - val_loss: 0.3124 - val_accuracy: 0.8867\n",
      "Epoch 96/100\n",
      "15/15 [==============================] - 2s 117ms/step - loss: 0.2394 - accuracy: 0.9132 - val_loss: 0.2930 - val_accuracy: 0.8938\n",
      "Epoch 97/100\n",
      "15/15 [==============================] - 2s 119ms/step - loss: 0.2373 - accuracy: 0.9135 - val_loss: 0.3033 - val_accuracy: 0.8890\n",
      "Epoch 98/100\n",
      "15/15 [==============================] - 2s 118ms/step - loss: 0.2384 - accuracy: 0.9133 - val_loss: 0.3001 - val_accuracy: 0.8909\n",
      "Epoch 99/100\n",
      "15/15 [==============================] - 2s 120ms/step - loss: 0.2365 - accuracy: 0.9135 - val_loss: 0.3293 - val_accuracy: 0.8761\n",
      "Epoch 100/100\n",
      "15/15 [==============================] - 2s 120ms/step - loss: 0.2365 - accuracy: 0.9142 - val_loss: 0.2943 - val_accuracy: 0.8930\n"
     ]
    }
   ],
   "source": [
    "batch_size = 4096\n",
    "n_epoch = 100\n",
    "\n",
    "model.compile(loss='categorical_crossentropy', optimizer=RMSprop(), metrics=['accuracy'])\n",
    "history = model.fit(X_train, Y_train, batch_size=batch_size, epochs=n_epoch, verbose=1, validation_data=(X_test, Y_test))"
   ]
  },
  {
   "cell_type": "markdown",
   "id": "236760c8",
   "metadata": {},
   "source": [
    "## Result plots"
   ]
  },
  {
   "cell_type": "code",
   "execution_count": 33,
   "id": "81b0000b",
   "metadata": {},
   "outputs": [
    {
     "name": "stdout",
     "output_type": "stream",
     "text": [
      "Test score: 0.29430198669433594\n",
      "Test accuracy: 0.8930000066757202\n"
     ]
    },
    {
     "data": {
      "image/png": "[encoded data removed]",
      "text/plain": [
       "<Figure size 432x288 with 1 Axes>"
      ]
     },
     "metadata": {
      "needs_background": "light"
     },
     "output_type": "display_data"
    }
   ],
   "source": [
    "pl.plot(history.history['loss'], label='Training')\n",
    "pl.plot(history.history['val_loss'], label='Testing')\n",
    "pl.legend()\n",
    "pl.grid()\n",
    "\n",
    "score = model.evaluate(X_test, Y_test, verbose=0)\n",
    "print('Test score:', score[0])\n",
    "print('Test accuracy:', score[1])"
   ]
  },
  {
   "cell_type": "markdown",
   "id": "2acacb47",
   "metadata": {},
   "source": [
    "## Confusion Matrix"
   ]
  },
  {
   "cell_type": "code",
   "execution_count": 34,
   "id": "1218a656",
   "metadata": {},
   "outputs": [],
   "source": [
    "pred = model.predict_on_batch(X_test)\n",
    "pred = np.argmax(pred, axis=-1)\n",
    "cm = me.confusion_matrix(y_test, pred)"
   ]
  },
  {
   "cell_type": "code",
   "execution_count": 35,
   "id": "942315d2",
   "metadata": {},
   "outputs": [],
   "source": [
    "def display_conf_matrix(conf_matrix, classes_labels=['0', '1', '2', '3', '4','5','6','7','8','9']):\n",
    "    disp = me.ConfusionMatrixDisplay(confusion_matrix=cm, display_labels=classes_labels)\n",
    "    fig, ax = pl.subplots(figsize=(10,10))\n",
    "    disp.plot(ax=ax)"
   ]
  },
  {
   "cell_type": "code",
   "execution_count": 36,
   "id": "4ff0d3d7",
   "metadata": {},
   "outputs": [
    {
     "data": {
      "image/png": "[encoded data removed]",
      "text/plain": [
       "<Figure size 720x720 with 2 Axes>"
      ]
     },
     "metadata": {
      "needs_background": "light"
     },
     "output_type": "display_data"
    }
   ],
   "source": [
    "display_conf_matrix(cm, classes_labels=['0', '1', '2', '3', '4','5','6','7','8','9'])"
   ]
  },
  {
   "cell_type": "code",
   "execution_count": 37,
   "id": "80ba7265",
   "metadata": {},
   "outputs": [
    {
     "name": "stdout",
     "output_type": "stream",
     "text": [
      "F-score\n",
      "0.893\n"
     ]
    }
   ],
   "source": [
    "import sklearn\n",
    "print(\"F-score\")\n",
    "f1 = sklearn.metrics.f1_score(y_test, pred, average=\"micro\")\n",
    "print(f1)"
   ]
  },
  {
   "cell_type": "code",
   "execution_count": null,
   "id": "15382a6a",
   "metadata": {},
   "outputs": [],
   "source": []
  },
  {
   "cell_type": "code",
   "execution_count": null,
   "id": "cc139794",
   "metadata": {},
   "outputs": [],
   "source": []
  }
 ],
 "metadata": {
  "kernelspec": {
   "display_name": "Python 3 (ipykernel)",
   "language": "python",
   "name": "python3"
  },
  "language_info": {
   "codemirror_mode": {
    "name": "ipython",
    "version": 3
   },
   "file_extension": ".py",
   "mimetype": "text/x-python",
   "name": "python",
   "nbconvert_exporter": "python",
   "pygments_lexer": "ipython3",
   "version": "3.8.5"
  }
 },
 "nbformat": 4,
 "nbformat_minor": 5
}
