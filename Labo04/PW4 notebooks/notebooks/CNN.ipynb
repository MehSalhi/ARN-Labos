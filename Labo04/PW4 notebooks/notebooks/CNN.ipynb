{
  "nbformat": 4,
  "nbformat_minor": 0,
  "metadata": {
    "accelerator": "GPU",
    "colab": {
      "name": "CNN.ipynb",
      "provenance": [],
      "collapsed_sections": []
    },
    "kernelspec": {
      "display_name": "Python 3",
      "language": "python",
      "name": "python3"
    },
    "language_info": {
      "codemirror_mode": {
        "name": "ipython",
        "version": 3
      },
      "file_extension": ".py",
      "mimetype": "text/x-python",
      "name": "python",
      "nbconvert_exporter": "python",
      "pygments_lexer": "ipython3",
      "version": "3.7.3"
    }
  },
  "cells": [
    {
      "cell_type": "markdown",
      "metadata": {
        "id": "HkLUJVa1bfNW"
      },
      "source": [
        "# Convolutional Neural Networks\n",
        "This notebook will guide you through the use of the `keras` package to train convolutional neural networks for handwritten digits classification. You are going to use the `mnist` dataset from LeCun et al. 1998."
      ]
    },
    {
      "cell_type": "markdown",
      "metadata": {
        "id": "SjQUQygFbfNb"
      },
      "source": [
        "## Loading the packages"
      ]
    },
    {
      "cell_type": "code",
      "metadata": {
        "id": "h7O8MewabfNj"
      },
      "source": [
        "%pip install tensorflow --upgrade\n",
        "%pip install keras --upgrade\n",
        "\n",
        "import numpy as np\n",
        "from matplotlib import pyplot as pl\n",
        "\n",
        "from keras.datasets import mnist\n",
        "from keras.models import Model\n",
        "from keras.layers.core import Dense, Dropout, Flatten\n",
        "from tensorflow.keras.optimizers import RMSprop\n",
        "from keras.utils import np_utils\n",
        "from keras.layers.convolutional import Conv2D, MaxPooling2D\n",
        "from keras.layers import Input\n",
        "from sklearn import metrics as me\n",
        "from scipy import stats\n",
        "\n",
        "%matplotlib inline"
      ],
      "execution_count": null,
      "outputs": []
    },
    {
      "cell_type": "markdown",
      "metadata": {
        "id": "vbttXt8SbfOH"
      },
      "source": [
        "First, create some useful functions"
      ]
    },
    {
      "cell_type": "code",
      "metadata": {
        "id": "jAR9jPgybfOO"
      },
      "source": [
        "def build_grid_of_images(array):\n",
        "    assert len(array.shape) == 3\n",
        "    dim_0 = np.sqrt(array.shape[0])\n",
        "    assert dim_0.is_integer()\n",
        "    \n",
        "    temp_out = np.reshape(array, (dim_0, dim_0, array.shape[1], array.shape[2]))\n",
        "    temp_out = np.rollaxis(temp_out, 1, 3)\n",
        "    return np.reshape(temp_out, (dim_0*array.shape[1], dim_0*array.shape[2]))\n",
        "\n",
        "def plot_conv_layer_output(temp_out, title):\n",
        "    temp_to_plot = build_grid_of_images(temp_out)\n",
        "    pl.imshow(temp_to_plot, interpolation='nearest', cmap=pl.get_cmap('Greys'))\n",
        "    ax = pl.gca()\n",
        "    ax.set_xticks(np.arange(-0.5, temp_to_plot.shape[0]+0.5, temp_out.shape[1]))    \n",
        "    ax.set_yticks(np.arange(-0.5, temp_to_plot.shape[0]+0.5, temp_out.shape[2]))\n",
        "    pl.grid()\n",
        "    pl.tick_params(axis='both', which='both', bottom='off', top='off', left='off', right='off', labelbottom='off', labelleft='off')\n",
        "    pl.title(title)\n",
        "\n",
        "def plot_dense_layer_output(temp_out, title):\n",
        "    pl.bar(np.arange(temp_out.shape[1])-0.4, temp_out[0,:])\n",
        "    pl.xlim(-0.5, temp_out.shape[1])\n",
        "    pl.grid()\n",
        "    pl.title(title)"
      ],
      "execution_count": null,
      "outputs": []
    },
    {
      "cell_type": "markdown",
      "metadata": {
        "id": "3fVOW4jGbfOb"
      },
      "source": [
        "Load the `mnist` dataset and normalize in the range [0, 1]"
      ]
    },
    {
      "cell_type": "code",
      "metadata": {
        "colab": {
          "base_uri": "https://localhost:8080/",
          "height": 85
        },
        "id": "2H2K3S4MbfOf",
        "outputId": "87306b90-6068-49ae-d1c2-5d5ea69927e2"
      },
      "source": [
        "(X_train, y_train), (X_test, y_test) = mnist.load_data()\n",
        "\n",
        "n_train, height, width = X_train.shape\n",
        "n_test, _, _ = X_test.shape\n",
        "\n",
        "X_train = X_train.reshape(n_train, height, width, 1).astype('float32')\n",
        "X_test = X_test.reshape(n_test, height, width, 1).astype('float32')\n",
        "\n",
        "X_train /= 255.0\n",
        "X_test /= 255.0\n",
        "\n",
        "n_classes = 10\n",
        "\n",
        "print(n_train, 'train samples')\n",
        "print(n_test, 'test samples')\n",
        "\n",
        "# convert class vectors to binary class matrices\n",
        "Y_train = np_utils.to_categorical(y_train, n_classes)\n",
        "Y_test = np_utils.to_categorical(y_test, n_classes)"
      ],
      "execution_count": null,
      "outputs": [
        {
          "name": "stdout",
          "output_type": "stream",
          "text": [
            "Downloading data from https://s3.amazonaws.com/img-datasets/mnist.npz\n",
            "11493376/11490434 [==============================] - 1s 0us/step\n",
            "60000 train samples\n",
            "10000 test samples\n"
          ]
        }
      ]
    },
    {
      "cell_type": "markdown",
      "metadata": {
        "id": "2B-WNiQUbfOq"
      },
      "source": [
        "Create the CNN and show its architecture"
      ]
    },
    {
      "cell_type": "code",
      "metadata": {
        "colab": {
          "base_uri": "https://localhost:8080/",
          "height": 493
        },
        "id": "yhOscSNPbfOt",
        "outputId": "6e1a0da0-e48f-4fd1-eb5c-dadacdad548a"
      },
      "source": [
        "l0 = Input(shape=(height, width, 1), name='l0')\n",
        "\n",
        "l1 = Conv2D(9, (5, 5), padding='same', activation='relu', name='l1')(l0)\n",
        "l1_mp = MaxPooling2D(pool_size=(2, 2), name='l1_mp')(l1)\n",
        "\n",
        "l2 = Conv2D(9, (5, 5), padding='same', activation='relu', name='l2')(l1_mp)\n",
        "l2_mp = MaxPooling2D(pool_size=(2, 2), name='l2_mp')(l2)\n",
        "\n",
        "l3 = Conv2D(16, (3, 3), padding='same', activation='relu', name='l3')(l2_mp)\n",
        "l3_mp = MaxPooling2D(pool_size=(2, 2), name='l3_mp')(l3)\n",
        "\n",
        "flat = Flatten(name='flat')(l3_mp)\n",
        "\n",
        "l4 = Dense(25, activation='relu', name='l4')(flat)\n",
        "\n",
        "l5 = Dense(n_classes, activation='softmax', name='l5')(l4)\n",
        "\n",
        "model = Model(inputs=l0, outputs=l5)\n",
        "model.summary()"
      ],
      "execution_count": null,
      "outputs": [
        {
          "name": "stdout",
          "output_type": "stream",
          "text": [
            "Model: \"model_5\"\n",
            "_________________________________________________________________\n",
            "Layer (type)                 Output Shape              Param #   \n",
            "=================================================================\n",
            "l0 (InputLayer)              (None, 28, 28, 1)         0         \n",
            "_________________________________________________________________\n",
            "l1 (Conv2D)                  (None, 28, 28, 9)         234       \n",
            "_________________________________________________________________\n",
            "l1_mp (MaxPooling2D)         (None, 14, 14, 9)         0         \n",
            "_________________________________________________________________\n",
            "l2 (Conv2D)                  (None, 14, 14, 9)         2034      \n",
            "_________________________________________________________________\n",
            "l2_mp (MaxPooling2D)         (None, 7, 7, 9)           0         \n",
            "_________________________________________________________________\n",
            "l3 (Conv2D)                  (None, 7, 7, 16)          1312      \n",
            "_________________________________________________________________\n",
            "l3_mp (MaxPooling2D)         (None, 3, 3, 16)          0         \n",
            "_________________________________________________________________\n",
            "flat (Flatten)               (None, 144)               0         \n",
            "_________________________________________________________________\n",
            "l4 (Dense)                   (None, 25)                3625      \n",
            "_________________________________________________________________\n",
            "l5 (Dense)                   (None, 10)                260       \n",
            "=================================================================\n",
            "Total params: 7,465\n",
            "Trainable params: 7,465\n",
            "Non-trainable params: 0\n",
            "_________________________________________________________________\n"
          ]
        }
      ]
    },
    {
      "cell_type": "markdown",
      "metadata": {
        "id": "sP_cugPCbfO6"
      },
      "source": [
        "Define some constants and train de CNN"
      ]
    },
    {
      "cell_type": "code",
      "metadata": {
        "colab": {
          "base_uri": "https://localhost:8080/",
          "height": 374
        },
        "id": "l8eKqD80bfPB",
        "outputId": "bb20620f-70c6-4330-8c5f-d67cb5176464"
      },
      "source": [
        "batch_size = 128\n",
        "n_epoch = 10\n",
        "\n",
        "model.compile(loss='categorical_crossentropy', optimizer=RMSprop(), metrics=['accuracy'])\n",
        "history = model.fit(X_train, Y_train, batch_size=batch_size, epochs=n_epoch, verbose=1, validation_data=(X_test, Y_test))"
      ],
      "execution_count": null,
      "outputs": [
        {
          "name": "stdout",
          "output_type": "stream",
          "text": [
            "Train on 60000 samples, validate on 10000 samples\n",
            "Epoch 1/10\n",
            "60000/60000 [==============================] - 9s 156us/step - loss: 0.5070 - acc: 0.8485 - val_loss: 0.1832 - val_acc: 0.9470\n",
            "Epoch 2/10\n",
            "60000/60000 [==============================] - 5s 90us/step - loss: 0.1442 - acc: 0.9559 - val_loss: 0.0949 - val_acc: 0.9687\n",
            "Epoch 3/10\n",
            "60000/60000 [==============================] - 5s 90us/step - loss: 0.0965 - acc: 0.9704 - val_loss: 0.0889 - val_acc: 0.9730\n",
            "Epoch 4/10\n",
            "60000/60000 [==============================] - 5s 89us/step - loss: 0.0759 - acc: 0.9771 - val_loss: 0.0502 - val_acc: 0.9830\n",
            "Epoch 5/10\n",
            "60000/60000 [==============================] - 5s 89us/step - loss: 0.0630 - acc: 0.9805 - val_loss: 0.0461 - val_acc: 0.9846\n",
            "Epoch 6/10\n",
            "60000/60000 [==============================] - 5s 89us/step - loss: 0.0550 - acc: 0.9831 - val_loss: 0.0432 - val_acc: 0.9869\n",
            "Epoch 7/10\n",
            "60000/60000 [==============================] - 5s 89us/step - loss: 0.0480 - acc: 0.9854 - val_loss: 0.0355 - val_acc: 0.9884\n",
            "Epoch 8/10\n",
            "60000/60000 [==============================] - 5s 90us/step - loss: 0.0438 - acc: 0.9865 - val_loss: 0.0407 - val_acc: 0.9868\n",
            "Epoch 9/10\n",
            "60000/60000 [==============================] - 5s 87us/step - loss: 0.0398 - acc: 0.9874 - val_loss: 0.0317 - val_acc: 0.9896\n",
            "Epoch 10/10\n",
            "60000/60000 [==============================] - 5s 87us/step - loss: 0.0367 - acc: 0.9878 - val_loss: 0.0406 - val_acc: 0.9879\n"
          ]
        }
      ]
    },
    {
      "cell_type": "markdown",
      "metadata": {
        "id": "IBX2Tc_0bfPK"
      },
      "source": [
        "Show the performance of the model"
      ]
    },
    {
      "cell_type": "code",
      "metadata": {
        "colab": {
          "base_uri": "https://localhost:8080/",
          "height": 299
        },
        "id": "WeaMjl-EbfPS",
        "outputId": "e219b778-8eb2-4fd9-a2f5-baaa3d936a3f"
      },
      "source": [
        "pl.plot(history.history['loss'], label='Training')\n",
        "pl.plot(history.history['val_loss'], label='Testing')\n",
        "pl.legend()\n",
        "pl.grid()\n",
        "\n",
        "score = model.evaluate(X_test, Y_test, verbose=0)\n",
        "print('Test score:', score[0])\n",
        "print('Test accuracy:', score[1])"
      ],
      "execution_count": null,
      "outputs": [
        {
          "name": "stdout",
          "output_type": "stream",
          "text": [
            "Test score: 0.040625956755731024\n",
            "Test accuracy: 0.9879\n"
          ]
        },
        {
          "data": {
            "image/png": "[encoded data removed]",
            "text/plain": [
              "<matplotlib.figure.Figure at 0x7ff2105a7240>"
            ]
          },
          "metadata": {
            "tags": []
          },
          "output_type": "display_data"
        }
      ]
    },
    {
      "cell_type": "markdown",
      "metadata": {
        "id": "rXNZ2ZHSbfPm"
      },
      "source": [
        "Confusion matrix"
      ]
    },
    {
      "cell_type": "code",
      "metadata": {
        "colab": {
          "base_uri": "https://localhost:8080/",
          "height": 187
        },
        "id": "XfgRipFebfPm",
        "outputId": "b435b340-a409-423f-bd5a-d989f6f76a8a"
      },
      "source": [
        "pred = model.predict_on_batch(X_test)\n",
        "pred = np.argmax(pred, axis=-1)\n",
        "me.confusion_matrix(y_test, pred)"
      ],
      "execution_count": null,
      "outputs": [
        {
          "data": {
            "text/plain": [
              "array([[ 967,    0,    2,    0,    1,    1,    5,    1,    3,    0],\n",
              "       [   0, 1134,    0,    0,    0,    1,    0,    0,    0,    0],\n",
              "       [   3,    4, 1017,    0,    0,    0,    3,    4,    1,    0],\n",
              "       [   1,    0,    1,  997,    0,    5,    0,    2,    4,    0],\n",
              "       [   0,    0,    0,    0,  980,    0,    0,    0,    2,    0],\n",
              "       [   1,    0,    0,    3,    0,  885,    2,    1,    0,    0],\n",
              "       [   0,    1,    0,    0,    0,    1,  956,    0,    0,    0],\n",
              "       [   0,    5,    3,    0,    0,    0,    0, 1019,    1,    0],\n",
              "       [   1,    0,    2,    2,    3,    2,    3,    1,  959,    1],\n",
              "       [   3,    4,    0,    2,   20,    3,    1,    6,    5,  965]])"
            ]
          },
          "execution_count": 8,
          "metadata": {
            "tags": []
          },
          "output_type": "execute_result"
        }
      ]
    }
  ]
}