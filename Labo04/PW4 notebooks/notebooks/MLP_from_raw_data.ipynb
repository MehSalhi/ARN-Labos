{
 "cells": [
  {
   "cell_type": "markdown",
   "metadata": {
    "id": "Ic-cqm0tbUc3"
   },
   "source": [
    "# Multilayer Perceptron from raw data\n",
    "This notebook will guide you through the use of the `keras` package to train a multilayer perceptron for handwritten digits classification. You are going to use the `mnist` dataset from LeCun et al. 1998"
   ]
  },
  {
   "cell_type": "markdown",
   "metadata": {
    "id": "ND1Cf9lXbUc6"
   },
   "source": [
    "## Loading the packages"
   ]
  },
  {
   "cell_type": "code",
   "execution_count": 1,
   "metadata": {
    "id": "Pvq0DhLtbUdE"
   },
   "outputs": [
    {
     "name": "stdout",
     "output_type": "stream",
     "text": [
      "Collecting tensorflow\n",
      "  Downloading tensorflow-2.8.0-cp39-cp39-manylinux2010_x86_64.whl (497.6 MB)\n",
      "\u001b[K     |████████████████████████████████| 497.6 MB 56 kB/s  eta 0:00:01     |████████████████▊               | 259.7 MB 2.4 MB/s eta 0:01:41\n",
      "\u001b[?25hRequirement already satisfied: setuptools in /home/mehdi/miniconda3/lib/python3.9/site-packages (from tensorflow) (58.0.4)\n",
      "Collecting grpcio<2.0,>=1.24.3\n",
      "  Downloading grpcio-1.44.0-cp39-cp39-manylinux_2_17_x86_64.manylinux2014_x86_64.whl (4.3 MB)\n",
      "\u001b[K     |████████████████████████████████| 4.3 MB 2.7 MB/s eta 0:00:01\n",
      "\u001b[?25hRequirement already satisfied: typing-extensions>=3.6.6 in /home/mehdi/miniconda3/lib/python3.9/site-packages (from tensorflow) (4.1.1)\n",
      "Collecting protobuf>=3.9.2\n",
      "  Downloading protobuf-3.20.1-cp39-cp39-manylinux_2_5_x86_64.manylinux1_x86_64.whl (1.0 MB)\n",
      "\u001b[K     |████████████████████████████████| 1.0 MB 4.4 MB/s eta 0:00:01\n",
      "\u001b[?25hRequirement already satisfied: numpy>=1.20 in /home/mehdi/miniconda3/lib/python3.9/site-packages (from tensorflow) (1.21.2)\n",
      "Collecting wrapt>=1.11.0\n",
      "  Downloading wrapt-1.14.0-cp39-cp39-manylinux_2_5_x86_64.manylinux1_x86_64.manylinux_2_17_x86_64.manylinux2014_x86_64.whl (77 kB)\n",
      "\u001b[K     |████████████████████████████████| 77 kB 2.6 MB/s eta 0:00:01\n",
      "\u001b[?25hCollecting termcolor>=1.1.0\n",
      "  Downloading termcolor-1.1.0.tar.gz (3.9 kB)\n",
      "Collecting astunparse>=1.6.0\n",
      "  Downloading astunparse-1.6.3-py2.py3-none-any.whl (12 kB)\n",
      "Collecting tf-estimator-nightly==2.8.0.dev2021122109\n",
      "  Downloading tf_estimator_nightly-2.8.0.dev2021122109-py2.py3-none-any.whl (462 kB)\n",
      "\u001b[K     |████████████████████████████████| 462 kB 4.5 MB/s eta 0:00:01\n",
      "\u001b[?25hCollecting keras-preprocessing>=1.1.1\n",
      "  Downloading Keras_Preprocessing-1.1.2-py2.py3-none-any.whl (42 kB)\n",
      "\u001b[K     |████████████████████████████████| 42 kB 2.0 MB/s eta 0:00:011\n",
      "\u001b[?25hCollecting keras<2.9,>=2.8.0rc0\n",
      "  Downloading keras-2.8.0-py2.py3-none-any.whl (1.4 MB)\n",
      "\u001b[K     |████████████████████████████████| 1.4 MB 2.0 MB/s eta 0:00:01\n",
      "\u001b[?25hCollecting google-pasta>=0.1.1\n",
      "  Downloading google_pasta-0.2.0-py3-none-any.whl (57 kB)\n",
      "\u001b[K     |████████████████████████████████| 57 kB 3.6 MB/s eta 0:00:01\n",
      "\u001b[?25hCollecting libclang>=9.0.1\n",
      "  Downloading libclang-14.0.1-py2.py3-none-manylinux1_x86_64.whl (14.5 MB)\n",
      "\u001b[K     |████████████████████████████████| 14.5 MB 2.9 MB/s eta 0:00:01\n",
      "\u001b[?25hCollecting absl-py>=0.4.0\n",
      "  Downloading absl_py-1.0.0-py3-none-any.whl (126 kB)\n",
      "\u001b[K     |████████████████████████████████| 126 kB 4.5 MB/s eta 0:00:01\n",
      "\u001b[?25hCollecting tensorflow-io-gcs-filesystem>=0.23.1\n",
      "  Downloading tensorflow_io_gcs_filesystem-0.25.0-cp39-cp39-manylinux_2_12_x86_64.manylinux2010_x86_64.whl (2.1 MB)\n",
      "\u001b[K     |████████████████████████████████| 2.1 MB 4.9 MB/s eta 0:00:01\n",
      "\u001b[?25hCollecting gast>=0.2.1\n",
      "  Using cached gast-0.5.3-py3-none-any.whl (19 kB)\n",
      "Requirement already satisfied: six>=1.12.0 in /home/mehdi/miniconda3/lib/python3.9/site-packages (from tensorflow) (1.16.0)\n",
      "Collecting tensorboard<2.9,>=2.8\n",
      "  Downloading tensorboard-2.8.0-py3-none-any.whl (5.8 MB)\n",
      "\u001b[K     |████████████████████████████████| 5.8 MB 5.2 MB/s eta 0:00:01\n",
      "\u001b[?25hCollecting flatbuffers>=1.12\n",
      "  Downloading flatbuffers-2.0-py2.py3-none-any.whl (26 kB)\n",
      "Collecting opt-einsum>=2.3.2\n",
      "  Downloading opt_einsum-3.3.0-py3-none-any.whl (65 kB)\n",
      "\u001b[K     |████████████████████████████████| 65 kB 2.9 MB/s eta 0:00:01\n",
      "\u001b[?25hCollecting h5py>=2.9.0\n",
      "  Downloading h5py-3.6.0-cp39-cp39-manylinux_2_12_x86_64.manylinux2010_x86_64.whl (4.5 MB)\n",
      "\u001b[K     |████████████████████████████████| 4.5 MB 5.8 MB/s eta 0:00:01\n",
      "\u001b[?25hRequirement already satisfied: wheel<1.0,>=0.23.0 in /home/mehdi/miniconda3/lib/python3.9/site-packages (from astunparse>=1.6.0->tensorflow) (0.37.1)\n",
      "Collecting werkzeug>=0.11.15\n",
      "  Downloading Werkzeug-2.1.2-py3-none-any.whl (224 kB)\n",
      "\u001b[K     |████████████████████████████████| 224 kB 5.8 MB/s eta 0:00:01\n",
      "\u001b[?25hCollecting google-auth<3,>=1.6.3\n",
      "  Downloading google_auth-2.6.6-py2.py3-none-any.whl (156 kB)\n",
      "\u001b[K     |████████████████████████████████| 156 kB 5.8 MB/s eta 0:00:01\n",
      "\u001b[?25hRequirement already satisfied: requests<3,>=2.21.0 in /home/mehdi/miniconda3/lib/python3.9/site-packages (from tensorboard<2.9,>=2.8->tensorflow) (2.27.1)\n",
      "Collecting tensorboard-plugin-wit>=1.6.0\n",
      "  Downloading tensorboard_plugin_wit-1.8.1-py3-none-any.whl (781 kB)\n",
      "\u001b[K     |████████████████████████████████| 781 kB 5.5 MB/s eta 0:00:01\n",
      "\u001b[?25hCollecting markdown>=2.6.8\n",
      "  Downloading Markdown-3.3.6-py3-none-any.whl (97 kB)\n",
      "\u001b[K     |████████████████████████████████| 97 kB 4.1 MB/s eta 0:00:01\n",
      "\u001b[?25hCollecting tensorboard-data-server<0.7.0,>=0.6.0\n",
      "  Downloading tensorboard_data_server-0.6.1-py3-none-manylinux2010_x86_64.whl (4.9 MB)\n",
      "\u001b[K     |████████████████████████████████| 4.9 MB 1.3 MB/s eta 0:00:01\n",
      "\u001b[?25hCollecting google-auth-oauthlib<0.5,>=0.4.1\n",
      "  Downloading google_auth_oauthlib-0.4.6-py2.py3-none-any.whl (18 kB)\n",
      "Collecting rsa<5,>=3.1.4\n",
      "  Downloading rsa-4.8-py3-none-any.whl (39 kB)\n",
      "Collecting cachetools<6.0,>=2.0.0\n",
      "  Downloading cachetools-5.0.0-py3-none-any.whl (9.1 kB)\n",
      "Collecting pyasn1-modules>=0.2.1\n",
      "  Downloading pyasn1_modules-0.2.8-py2.py3-none-any.whl (155 kB)\n",
      "\u001b[K     |████████████████████████████████| 155 kB 3.4 MB/s eta 0:00:01\n",
      "\u001b[?25hCollecting requests-oauthlib>=0.7.0\n",
      "  Downloading requests_oauthlib-1.3.1-py2.py3-none-any.whl (23 kB)\n",
      "Collecting importlib-metadata>=4.4\n",
      "  Downloading importlib_metadata-4.11.3-py3-none-any.whl (18 kB)\n",
      "Collecting zipp>=0.5\n",
      "  Downloading zipp-3.8.0-py3-none-any.whl (5.4 kB)\n",
      "Collecting pyasn1<0.5.0,>=0.4.6\n",
      "  Downloading pyasn1-0.4.8-py2.py3-none-any.whl (77 kB)\n",
      "\u001b[K     |████████████████████████████████| 77 kB 4.6 MB/s eta 0:00:01\n",
      "\u001b[?25hRequirement already satisfied: urllib3<1.27,>=1.21.1 in /home/mehdi/miniconda3/lib/python3.9/site-packages (from requests<3,>=2.21.0->tensorboard<2.9,>=2.8->tensorflow) (1.26.7)\n",
      "Requirement already satisfied: idna<4,>=2.5 in /home/mehdi/miniconda3/lib/python3.9/site-packages (from requests<3,>=2.21.0->tensorboard<2.9,>=2.8->tensorflow) (3.3)\n",
      "Requirement already satisfied: charset-normalizer~=2.0.0 in /home/mehdi/miniconda3/lib/python3.9/site-packages (from requests<3,>=2.21.0->tensorboard<2.9,>=2.8->tensorflow) (2.0.4)\n",
      "Requirement already satisfied: certifi>=2017.4.17 in /home/mehdi/miniconda3/lib/python3.9/site-packages (from requests<3,>=2.21.0->tensorboard<2.9,>=2.8->tensorflow) (2021.10.8)\n",
      "Collecting oauthlib>=3.0.0\n",
      "  Downloading oauthlib-3.2.0-py3-none-any.whl (151 kB)\n",
      "\u001b[K     |████████████████████████████████| 151 kB 4.1 MB/s eta 0:00:01\n",
      "\u001b[?25hBuilding wheels for collected packages: termcolor\n",
      "  Building wheel for termcolor (setup.py) ... \u001b[?25ldone\n",
      "\u001b[?25h  Created wheel for termcolor: filename=termcolor-1.1.0-py3-none-any.whl size=4848 sha256=f7cf59c2c7a2dd0e1365eb2b43bcd39fc4abe545a08d1b19ab2341f95ee47155\n",
      "  Stored in directory: /home/mehdi/.cache/pip/wheels/b6/0d/90/0d1bbd99855f99cb2f6c2e5ff96f8023fad8ec367695f7d72d\n",
      "Successfully built termcolor\n",
      "Installing collected packages: pyasn1, zipp, rsa, pyasn1-modules, oauthlib, cachetools, requests-oauthlib, importlib-metadata, google-auth, werkzeug, tensorboard-plugin-wit, tensorboard-data-server, protobuf, markdown, grpcio, google-auth-oauthlib, absl-py, wrapt, tf-estimator-nightly, termcolor, tensorflow-io-gcs-filesystem, tensorboard, opt-einsum, libclang, keras-preprocessing, keras, h5py, google-pasta, gast, flatbuffers, astunparse, tensorflow\n",
      "Successfully installed absl-py-1.0.0 astunparse-1.6.3 cachetools-5.0.0 flatbuffers-2.0 gast-0.5.3 google-auth-2.6.6 google-auth-oauthlib-0.4.6 google-pasta-0.2.0 grpcio-1.44.0 h5py-3.6.0 importlib-metadata-4.11.3 keras-2.8.0 keras-preprocessing-1.1.2 libclang-14.0.1 markdown-3.3.6 oauthlib-3.2.0 opt-einsum-3.3.0 protobuf-3.20.1 pyasn1-0.4.8 pyasn1-modules-0.2.8 requests-oauthlib-1.3.1 rsa-4.8 tensorboard-2.8.0 tensorboard-data-server-0.6.1 tensorboard-plugin-wit-1.8.1 tensorflow-2.8.0 tensorflow-io-gcs-filesystem-0.25.0 termcolor-1.1.0 tf-estimator-nightly-2.8.0.dev2021122109 werkzeug-2.1.2 wrapt-1.14.0 zipp-3.8.0\n",
      "Note: you may need to restart the kernel to use updated packages.\n",
      "Requirement already satisfied: keras in /home/mehdi/miniconda3/lib/python3.9/site-packages (2.8.0)\n",
      "Note: you may need to restart the kernel to use updated packages.\n"
     ]
    },
    {
     "name": "stderr",
     "output_type": "stream",
     "text": [
      "2022-04-29 13:25:46.363616: W tensorflow/stream_executor/platform/default/dso_loader.cc:64] Could not load dynamic library 'libcudart.so.11.0'; dlerror: libcudart.so.11.0: cannot open shared object file: No such file or directory\n",
      "2022-04-29 13:25:46.363638: I tensorflow/stream_executor/cuda/cudart_stub.cc:29] Ignore above cudart dlerror if you do not have a GPU set up on your machine.\n"
     ]
    }
   ],
   "source": [
    "%pip install tensorflow --upgrade\n",
    "%pip install keras --upgrade\n",
    "\n",
    "import numpy as np\n",
    "from matplotlib import pyplot as pl\n",
    "\n",
    "from keras.datasets import mnist\n",
    "from keras.models import Sequential\n",
    "from keras.layers.core import Dense, Dropout\n",
    "from tensorflow.keras.optimizers import RMSprop\n",
    "from keras.utils import np_utils\n",
    "from sklearn import metrics as me\n",
    "\n",
    "%matplotlib inline"
   ]
  },
  {
   "cell_type": "markdown",
   "metadata": {
    "id": "Vy0wRnm2bUde"
   },
   "source": [
    "## Using raw data to train a MLP\n",
    "First load the `mnist` dataset and normalize it to be in the range [0, 1]"
   ]
  },
  {
   "cell_type": "code",
   "execution_count": 2,
   "metadata": {
    "colab": {
     "base_uri": "https://localhost:8080/",
     "height": 51
    },
    "id": "8CKuJwcibUdi",
    "outputId": "62b6c3c9-af3b-4769-c557-cd6c74afcefe"
   },
   "outputs": [
    {
     "name": "stdout",
     "output_type": "stream",
     "text": [
      "Downloading data from https://storage.googleapis.com/tensorflow/tf-keras-datasets/mnist.npz\n",
      "11493376/11490434 [==============================] - 1s 0us/step\n",
      "11501568/11490434 [==============================] - 1s 0us/step\n",
      "60000 train samples\n",
      "10000 test samples\n"
     ]
    }
   ],
   "source": [
    "(X_train, y_train), (X_test, y_test) = mnist.load_data()\n",
    "\n",
    "X_train = X_train.reshape(60000, 784)\n",
    "X_test = X_test.reshape(10000, 784)\n",
    "X_train = X_train.astype('float32')\n",
    "X_test = X_test.astype('float32')\n",
    "X_train /= 255\n",
    "X_test /= 255\n",
    "print(X_train.shape[0], 'train samples')\n",
    "print(X_test.shape[0], 'test samples')\n",
    "\n",
    "n_classes = 10\n",
    "# convert class vectors to binary class matrices\n",
    "Y_train = np_utils.to_categorical(y_train, n_classes)\n",
    "Y_test = np_utils.to_categorical(y_test, n_classes)"
   ]
  },
  {
   "cell_type": "markdown",
   "metadata": {
    "id": "01XwVeDNbUdv"
   },
   "source": [
    "Create the MLP"
   ]
  },
  {
   "cell_type": "code",
   "execution_count": 3,
   "metadata": {
    "colab": {
     "base_uri": "https://localhost:8080/",
     "height": 221
    },
    "id": "DNgzrBJEbUd0",
    "outputId": "f34f82a1-cd6b-474f-8186-a0c61f81a08c"
   },
   "outputs": [
    {
     "name": "stdout",
     "output_type": "stream",
     "text": [
      "Model: \"sequential\"\n",
      "_________________________________________________________________\n",
      " Layer (type)                Output Shape              Param #   \n",
      "=================================================================\n",
      " dense (Dense)               (None, 300)               235500    \n",
      "                                                                 \n",
      " dropout (Dropout)           (None, 300)               0         \n",
      "                                                                 \n",
      " dense_1 (Dense)             (None, 10)                3010      \n",
      "                                                                 \n",
      "=================================================================\n",
      "Total params: 238,510\n",
      "Trainable params: 238,510\n",
      "Non-trainable params: 0\n",
      "_________________________________________________________________\n"
     ]
    },
    {
     "name": "stderr",
     "output_type": "stream",
     "text": [
      "2022-04-29 13:26:02.736184: I tensorflow/stream_executor/cuda/cuda_gpu_executor.cc:936] successful NUMA node read from SysFS had negative value (-1), but there must be at least one NUMA node, so returning NUMA node zero\n",
      "2022-04-29 13:26:02.737459: W tensorflow/stream_executor/platform/default/dso_loader.cc:64] Could not load dynamic library 'libcudart.so.11.0'; dlerror: libcudart.so.11.0: cannot open shared object file: No such file or directory\n",
      "2022-04-29 13:26:02.737574: W tensorflow/stream_executor/platform/default/dso_loader.cc:64] Could not load dynamic library 'libcublas.so.11'; dlerror: libcublas.so.11: cannot open shared object file: No such file or directory\n",
      "2022-04-29 13:26:02.737668: W tensorflow/stream_executor/platform/default/dso_loader.cc:64] Could not load dynamic library 'libcublasLt.so.11'; dlerror: libcublasLt.so.11: cannot open shared object file: No such file or directory\n",
      "2022-04-29 13:26:02.737762: W tensorflow/stream_executor/platform/default/dso_loader.cc:64] Could not load dynamic library 'libcufft.so.10'; dlerror: libcufft.so.10: cannot open shared object file: No such file or directory\n",
      "2022-04-29 13:26:02.737854: W tensorflow/stream_executor/platform/default/dso_loader.cc:64] Could not load dynamic library 'libcurand.so.10'; dlerror: libcurand.so.10: cannot open shared object file: No such file or directory\n",
      "2022-04-29 13:26:02.737945: W tensorflow/stream_executor/platform/default/dso_loader.cc:64] Could not load dynamic library 'libcusolver.so.11'; dlerror: libcusolver.so.11: cannot open shared object file: No such file or directory\n",
      "2022-04-29 13:26:02.738037: W tensorflow/stream_executor/platform/default/dso_loader.cc:64] Could not load dynamic library 'libcusparse.so.11'; dlerror: libcusparse.so.11: cannot open shared object file: No such file or directory\n",
      "2022-04-29 13:26:02.738126: W tensorflow/stream_executor/platform/default/dso_loader.cc:64] Could not load dynamic library 'libcudnn.so.8'; dlerror: libcudnn.so.8: cannot open shared object file: No such file or directory\n",
      "2022-04-29 13:26:02.738142: W tensorflow/core/common_runtime/gpu/gpu_device.cc:1850] Cannot dlopen some GPU libraries. Please make sure the missing libraries mentioned above are installed properly if you would like to use GPU. Follow the guide at https://www.tensorflow.org/install/gpu for how to download and setup the required libraries for your platform.\n",
      "Skipping registering GPU devices...\n",
      "2022-04-29 13:26:02.739225: I tensorflow/core/platform/cpu_feature_guard.cc:151] This TensorFlow binary is optimized with oneAPI Deep Neural Network Library (oneDNN) to use the following CPU instructions in performance-critical operations:  AVX2 FMA\n",
      "To enable them in other operations, rebuild TensorFlow with the appropriate compiler flags.\n"
     ]
    }
   ],
   "source": [
    "model = Sequential()\n",
    "#model.add(Dense(300, input_shape=(784,), activation='relu'))\n",
    "model.add(Dense(300, input_shape=(784,), activation='sigmoid'))\n",
    "#model.add(Dense(300, input_shape=(784,), activation='tanh'))\n",
    "model.add(Dropout(0.5))\n",
    "model.add(Dense(n_classes, activation='softmax'))\n",
    "\n",
    "model.summary()"
   ]
  },
  {
   "cell_type": "markdown",
   "metadata": {
    "id": "Peiq9GR2bUeN"
   },
   "source": [
    "Define some constants and train the MLP"
   ]
  },
  {
   "cell_type": "code",
   "execution_count": 7,
   "metadata": {
    "colab": {
     "base_uri": "https://localhost:8080/",
     "height": 374
    },
    "id": "NBt-ReqIbUeR",
    "outputId": "b1e07312-0ddd-4a6c-a52d-c762dda98b1b"
   },
   "outputs": [
    {
     "name": "stdout",
     "output_type": "stream",
     "text": [
      "Epoch 1/50\n",
      "469/469 [==============================] - 2s 3ms/step - loss: 0.0492 - accuracy: 0.9855 - val_loss: 0.0732 - val_accuracy: 0.9817\n",
      "Epoch 2/50\n",
      "469/469 [==============================] - 1s 3ms/step - loss: 0.0461 - accuracy: 0.9863 - val_loss: 0.0739 - val_accuracy: 0.9819\n",
      "Epoch 3/50\n",
      "469/469 [==============================] - 1s 3ms/step - loss: 0.0458 - accuracy: 0.9867 - val_loss: 0.0753 - val_accuracy: 0.9811\n",
      "Epoch 4/50\n",
      "469/469 [==============================] - 1s 3ms/step - loss: 0.0448 - accuracy: 0.9869 - val_loss: 0.0769 - val_accuracy: 0.9815\n",
      "Epoch 5/50\n",
      "469/469 [==============================] - 1s 3ms/step - loss: 0.0442 - accuracy: 0.9869 - val_loss: 0.0772 - val_accuracy: 0.9811\n",
      "Epoch 6/50\n",
      "469/469 [==============================] - 1s 3ms/step - loss: 0.0441 - accuracy: 0.9866 - val_loss: 0.0753 - val_accuracy: 0.9812\n",
      "Epoch 7/50\n",
      "469/469 [==============================] - 1s 3ms/step - loss: 0.0442 - accuracy: 0.9872 - val_loss: 0.0781 - val_accuracy: 0.9807\n",
      "Epoch 8/50\n",
      "469/469 [==============================] - 1s 3ms/step - loss: 0.0439 - accuracy: 0.9870 - val_loss: 0.0767 - val_accuracy: 0.9810\n",
      "Epoch 9/50\n",
      "469/469 [==============================] - 1s 3ms/step - loss: 0.0442 - accuracy: 0.9871 - val_loss: 0.0775 - val_accuracy: 0.9821\n",
      "Epoch 10/50\n",
      "469/469 [==============================] - 1s 3ms/step - loss: 0.0438 - accuracy: 0.9872 - val_loss: 0.0776 - val_accuracy: 0.9816\n",
      "Epoch 11/50\n",
      "469/469 [==============================] - 1s 3ms/step - loss: 0.0424 - accuracy: 0.9876 - val_loss: 0.0764 - val_accuracy: 0.9823\n",
      "Epoch 12/50\n",
      "469/469 [==============================] - 1s 3ms/step - loss: 0.0416 - accuracy: 0.9872 - val_loss: 0.0752 - val_accuracy: 0.9817\n",
      "Epoch 13/50\n",
      "469/469 [==============================] - 1s 3ms/step - loss: 0.0417 - accuracy: 0.9875 - val_loss: 0.0770 - val_accuracy: 0.9819\n",
      "Epoch 14/50\n",
      "469/469 [==============================] - 1s 3ms/step - loss: 0.0399 - accuracy: 0.9879 - val_loss: 0.0771 - val_accuracy: 0.9816\n",
      "Epoch 15/50\n",
      "469/469 [==============================] - 1s 3ms/step - loss: 0.0417 - accuracy: 0.9880 - val_loss: 0.0774 - val_accuracy: 0.9818\n",
      "Epoch 16/50\n",
      "469/469 [==============================] - 1s 3ms/step - loss: 0.0383 - accuracy: 0.9883 - val_loss: 0.0768 - val_accuracy: 0.9823\n",
      "Epoch 17/50\n",
      "469/469 [==============================] - 1s 3ms/step - loss: 0.0394 - accuracy: 0.9877 - val_loss: 0.0799 - val_accuracy: 0.9824\n",
      "Epoch 18/50\n",
      "469/469 [==============================] - 1s 3ms/step - loss: 0.0391 - accuracy: 0.9882 - val_loss: 0.0793 - val_accuracy: 0.9822\n",
      "Epoch 19/50\n",
      "469/469 [==============================] - 2s 3ms/step - loss: 0.0389 - accuracy: 0.9883 - val_loss: 0.0785 - val_accuracy: 0.9819\n",
      "Epoch 20/50\n",
      "469/469 [==============================] - 1s 3ms/step - loss: 0.0398 - accuracy: 0.9883 - val_loss: 0.0794 - val_accuracy: 0.9822\n",
      "Epoch 21/50\n",
      "469/469 [==============================] - 1s 3ms/step - loss: 0.0392 - accuracy: 0.9880 - val_loss: 0.0795 - val_accuracy: 0.9815\n",
      "Epoch 22/50\n",
      "469/469 [==============================] - 2s 3ms/step - loss: 0.0389 - accuracy: 0.9883 - val_loss: 0.0791 - val_accuracy: 0.9822\n",
      "Epoch 23/50\n",
      "469/469 [==============================] - 2s 4ms/step - loss: 0.0368 - accuracy: 0.9887 - val_loss: 0.0810 - val_accuracy: 0.9819\n",
      "Epoch 24/50\n",
      "469/469 [==============================] - 2s 4ms/step - loss: 0.0350 - accuracy: 0.9891 - val_loss: 0.0771 - val_accuracy: 0.9820\n",
      "Epoch 25/50\n",
      "469/469 [==============================] - 2s 4ms/step - loss: 0.0379 - accuracy: 0.9887 - val_loss: 0.0792 - val_accuracy: 0.9822\n",
      "Epoch 26/50\n",
      "469/469 [==============================] - 2s 4ms/step - loss: 0.0370 - accuracy: 0.9890 - val_loss: 0.0785 - val_accuracy: 0.9823\n",
      "Epoch 27/50\n",
      "469/469 [==============================] - 2s 4ms/step - loss: 0.0340 - accuracy: 0.9897 - val_loss: 0.0784 - val_accuracy: 0.9824\n",
      "Epoch 28/50\n",
      "469/469 [==============================] - 2s 4ms/step - loss: 0.0354 - accuracy: 0.9891 - val_loss: 0.0772 - val_accuracy: 0.9826\n",
      "Epoch 29/50\n",
      "469/469 [==============================] - 2s 4ms/step - loss: 0.0340 - accuracy: 0.9902 - val_loss: 0.0794 - val_accuracy: 0.9824\n",
      "Epoch 30/50\n",
      "469/469 [==============================] - 2s 4ms/step - loss: 0.0364 - accuracy: 0.9887 - val_loss: 0.0795 - val_accuracy: 0.9823\n",
      "Epoch 31/50\n",
      "469/469 [==============================] - 2s 4ms/step - loss: 0.0337 - accuracy: 0.9902 - val_loss: 0.0811 - val_accuracy: 0.9814\n",
      "Epoch 32/50\n",
      "469/469 [==============================] - 2s 3ms/step - loss: 0.0334 - accuracy: 0.9901 - val_loss: 0.0788 - val_accuracy: 0.9824\n",
      "Epoch 33/50\n",
      "469/469 [==============================] - 2s 3ms/step - loss: 0.0336 - accuracy: 0.9899 - val_loss: 0.0804 - val_accuracy: 0.9829\n",
      "Epoch 34/50\n",
      "469/469 [==============================] - 2s 3ms/step - loss: 0.0345 - accuracy: 0.9897 - val_loss: 0.0793 - val_accuracy: 0.9826\n",
      "Epoch 35/50\n",
      "469/469 [==============================] - 2s 4ms/step - loss: 0.0330 - accuracy: 0.9901 - val_loss: 0.0803 - val_accuracy: 0.9824\n",
      "Epoch 36/50\n",
      "469/469 [==============================] - 2s 4ms/step - loss: 0.0325 - accuracy: 0.9904 - val_loss: 0.0798 - val_accuracy: 0.9829\n",
      "Epoch 37/50\n",
      "469/469 [==============================] - 2s 4ms/step - loss: 0.0331 - accuracy: 0.9898 - val_loss: 0.0816 - val_accuracy: 0.9819\n",
      "Epoch 38/50\n",
      "469/469 [==============================] - 2s 4ms/step - loss: 0.0323 - accuracy: 0.9903 - val_loss: 0.0798 - val_accuracy: 0.9830\n",
      "Epoch 39/50\n",
      "469/469 [==============================] - 2s 4ms/step - loss: 0.0327 - accuracy: 0.9903 - val_loss: 0.0832 - val_accuracy: 0.9824\n",
      "Epoch 40/50\n",
      "469/469 [==============================] - 2s 4ms/step - loss: 0.0309 - accuracy: 0.9903 - val_loss: 0.0800 - val_accuracy: 0.9829\n",
      "Epoch 41/50\n",
      "469/469 [==============================] - 2s 4ms/step - loss: 0.0314 - accuracy: 0.9912 - val_loss: 0.0810 - val_accuracy: 0.9826\n",
      "Epoch 42/50\n",
      "469/469 [==============================] - 2s 4ms/step - loss: 0.0314 - accuracy: 0.9902 - val_loss: 0.0845 - val_accuracy: 0.9820\n",
      "Epoch 43/50\n",
      "469/469 [==============================] - 2s 4ms/step - loss: 0.0294 - accuracy: 0.9913 - val_loss: 0.0835 - val_accuracy: 0.9831\n",
      "Epoch 44/50\n",
      "469/469 [==============================] - 2s 4ms/step - loss: 0.0322 - accuracy: 0.9905 - val_loss: 0.0826 - val_accuracy: 0.9823\n",
      "Epoch 45/50\n",
      "469/469 [==============================] - 2s 4ms/step - loss: 0.0322 - accuracy: 0.9904 - val_loss: 0.0839 - val_accuracy: 0.9820\n",
      "Epoch 46/50\n",
      "469/469 [==============================] - 2s 4ms/step - loss: 0.0305 - accuracy: 0.9907 - val_loss: 0.0850 - val_accuracy: 0.9826\n",
      "Epoch 47/50\n",
      "469/469 [==============================] - 2s 4ms/step - loss: 0.0300 - accuracy: 0.9904 - val_loss: 0.0825 - val_accuracy: 0.9821\n",
      "Epoch 48/50\n",
      "469/469 [==============================] - 2s 3ms/step - loss: 0.0291 - accuracy: 0.9914 - val_loss: 0.0857 - val_accuracy: 0.9825\n",
      "Epoch 49/50\n",
      "469/469 [==============================] - 2s 3ms/step - loss: 0.0307 - accuracy: 0.9905 - val_loss: 0.0830 - val_accuracy: 0.9820\n",
      "Epoch 50/50\n",
      "469/469 [==============================] - 2s 4ms/step - loss: 0.0313 - accuracy: 0.9904 - val_loss: 0.0832 - val_accuracy: 0.9821\n"
     ]
    }
   ],
   "source": [
    "batch_size = 128\n",
    "#n_epoch = 10\n",
    "n_epoch = 50\n",
    "\n",
    "model.compile(loss='categorical_crossentropy', optimizer=RMSprop(), metrics=['accuracy'])\n",
    "history = model.fit(X_train, Y_train,\n",
    "                    batch_size=batch_size, epochs=n_epoch,\n",
    "                    verbose=1, validation_data=(X_test, Y_test))"
   ]
  },
  {
   "cell_type": "markdown",
   "metadata": {
    "id": "7u_zpHr5bUeb"
   },
   "source": [
    "Show the performance of the model"
   ]
  },
  {
   "cell_type": "code",
   "execution_count": 5,
   "metadata": {
    "colab": {
     "base_uri": "https://localhost:8080/",
     "height": 299
    },
    "id": "PHXi21E1bUef",
    "outputId": "b153b1ab-4795-4704-b1a3-f28d4d636043"
   },
   "outputs": [
    {
     "name": "stdout",
     "output_type": "stream",
     "text": [
      "Test score: 0.07401813566684723\n",
      "Test accuracy: 0.9815000295639038\n"
     ]
    },
    {
     "data": {
      "image/png": "[encoded data removed]",
      "text/plain": [
       "<Figure size 432x288 with 1 Axes>"
      ]
     },
     "metadata": {
      "needs_background": "light"
     },
     "output_type": "display_data"
    }
   ],
   "source": [
    "pl.plot(history.history['loss'], label='Training')\n",
    "pl.plot(history.history['val_loss'], label='Testing')\n",
    "pl.legend()\n",
    "pl.grid()\n",
    "\n",
    "score = model.evaluate(X_test, Y_test, verbose=0)\n",
    "print('Test score:', score[0])\n",
    "print('Test accuracy:', score[1])"
   ]
  },
  {
   "cell_type": "markdown",
   "metadata": {
    "id": "jLuFK6MobUet"
   },
   "source": [
    "Confusion matrix"
   ]
  },
  {
   "cell_type": "code",
   "execution_count": 6,
   "metadata": {
    "colab": {
     "base_uri": "https://localhost:8080/",
     "height": 187
    },
    "id": "PAjwjjrjbUex",
    "outputId": "c96b6cf1-3bb9-4056-a6ec-0f20921828c3"
   },
   "outputs": [
    {
     "data": {
      "text/plain": [
       "array([[ 969,    0,    2,    2,    0,    2,    3,    1,    1,    0],\n",
       "       [   0, 1129,    2,    1,    0,    1,    1,    0,    1,    0],\n",
       "       [   3,    1, 1012,    0,    2,    0,    2,    6,    6,    0],\n",
       "       [   0,    0,    2,  998,    0,    3,    0,    4,    2,    1],\n",
       "       [   2,    0,    1,    0,  968,    0,    5,    1,    1,    4],\n",
       "       [   2,    0,    0,   11,    3,  867,    4,    1,    3,    1],\n",
       "       [   5,    3,    0,    1,    3,    3,  940,    0,    3,    0],\n",
       "       [   2,    7,   10,    3,    0,    0,    0, 1002,    0,    4],\n",
       "       [   2,    2,    4,    4,    3,    5,    2,    6,  943,    3],\n",
       "       [   1,    2,    0,    5,    8,    4,    0,    2,    0,  987]])"
      ]
     },
     "execution_count": 6,
     "metadata": {},
     "output_type": "execute_result"
    }
   ],
   "source": [
    "pred = model.predict(X_test)\n",
    "pred = np.argmax(pred, axis=-1)\n",
    "me.confusion_matrix(y_test, pred)"
   ]
  },
  {
   "cell_type": "code",
   "execution_count": null,
   "metadata": {},
   "outputs": [],
   "source": []
  }
 ],
 "metadata": {
  "accelerator": "GPU",
  "colab": {
   "collapsed_sections": [],
   "name": "MLP_from_raw_data.ipynb",
   "provenance": []
  },
  "kernelspec": {
   "display_name": "Python 3 (ipykernel)",
   "language": "python",
   "name": "python3"
  },
  "language_info": {
   "codemirror_mode": {
    "name": "ipython",
    "version": 3
   },
   "file_extension": ".py",
   "mimetype": "text/x-python",
   "name": "python",
   "nbconvert_exporter": "python",
   "pygments_lexer": "ipython3",
   "version": "3.9.7"
  }
 },
 "nbformat": 4,
 "nbformat_minor": 1
}
