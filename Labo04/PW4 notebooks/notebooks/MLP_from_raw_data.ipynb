{
  "nbformat": 4,
  "nbformat_minor": 0,
  "metadata": {
    "colab": {
      "name": "MLP_from_raw_data.ipynb",
      "provenance": [],
      "collapsed_sections": []
    },
    "kernelspec": {
      "name": "python3",
      "display_name": "Python 3"
    },
    "accelerator": "GPU"
  },
  "cells": [
    {
      "cell_type": "markdown",
      "metadata": {
        "id": "Ic-cqm0tbUc3"
      },
      "source": [
        "# Multilayer Perceptron from raw data\n",
        "This notebook will guide you through the use of the `keras` package to train a multilayer perceptron for handwritten digits classification. You are going to use the `mnist` dataset from LeCun et al. 1998"
      ]
    },
    {
      "cell_type": "markdown",
      "metadata": {
        "id": "ND1Cf9lXbUc6"
      },
      "source": [
        "## Loading the packages"
      ]
    },
    {
      "cell_type": "code",
      "metadata": {
        "id": "Pvq0DhLtbUdE"
      },
      "source": [
        "%pip install tensorflow --upgrade\n",
        "%pip install keras --upgrade\n",
        "\n",
        "import numpy as np\n",
        "from matplotlib import pyplot as pl\n",
        "\n",
        "from keras.datasets import mnist\n",
        "from keras.models import Sequential\n",
        "from keras.layers.core import Dense, Dropout\n",
        "from tensorflow.keras.optimizers import RMSprop\n",
        "from keras.utils import np_utils\n",
        "from sklearn import metrics as me\n",
        "\n",
        "%matplotlib inline"
      ],
      "execution_count": null,
      "outputs": []
    },
    {
      "cell_type": "markdown",
      "metadata": {
        "id": "Vy0wRnm2bUde"
      },
      "source": [
        "## Using raw data to train a MLP\n",
        "First load the `mnist` dataset and normalize it to be in the range [0, 1]"
      ]
    },
    {
      "cell_type": "code",
      "metadata": {
        "id": "8CKuJwcibUdi",
        "colab": {
          "base_uri": "https://localhost:8080/",
          "height": 51
        },
        "outputId": "62b6c3c9-af3b-4769-c557-cd6c74afcefe"
      },
      "source": [
        "(X_train, y_train), (X_test, y_test) = mnist.load_data()\n",
        "\n",
        "X_train = X_train.reshape(60000, 784)\n",
        "X_test = X_test.reshape(10000, 784)\n",
        "X_train = X_train.astype('float32')\n",
        "X_test = X_test.astype('float32')\n",
        "X_train /= 255\n",
        "X_test /= 255\n",
        "print(X_train.shape[0], 'train samples')\n",
        "print(X_test.shape[0], 'test samples')\n",
        "\n",
        "n_classes = 10\n",
        "# convert class vectors to binary class matrices\n",
        "Y_train = np_utils.to_categorical(y_train, n_classes)\n",
        "Y_test = np_utils.to_categorical(y_test, n_classes)"
      ],
      "execution_count": null,
      "outputs": [
        {
          "output_type": "stream",
          "text": [
            "60000 train samples\n",
            "10000 test samples\n"
          ],
          "name": "stdout"
        }
      ]
    },
    {
      "cell_type": "markdown",
      "metadata": {
        "id": "01XwVeDNbUdv"
      },
      "source": [
        "Create the MLP"
      ]
    },
    {
      "cell_type": "code",
      "metadata": {
        "id": "DNgzrBJEbUd0",
        "colab": {
          "base_uri": "https://localhost:8080/",
          "height": 221
        },
        "outputId": "f34f82a1-cd6b-474f-8186-a0c61f81a08c"
      },
      "source": [
        "model = Sequential()\n",
        "model.add(Dense(300, input_shape=(784,), activation='relu'))\n",
        "#model.add(Dropout(0.5))\n",
        "model.add(Dense(n_classes, activation='softmax'))\n",
        "\n",
        "model.summary()"
      ],
      "execution_count": null,
      "outputs": [
        {
          "output_type": "stream",
          "text": [
            "Model: \"sequential_2\"\n",
            "_________________________________________________________________\n",
            "Layer (type)                 Output Shape              Param #   \n",
            "=================================================================\n",
            "dense_3 (Dense)              (None, 300)               235500    \n",
            "_________________________________________________________________\n",
            "dense_4 (Dense)              (None, 10)                3010      \n",
            "=================================================================\n",
            "Total params: 238,510\n",
            "Trainable params: 238,510\n",
            "Non-trainable params: 0\n",
            "_________________________________________________________________\n"
          ],
          "name": "stdout"
        }
      ]
    },
    {
      "cell_type": "markdown",
      "metadata": {
        "id": "Peiq9GR2bUeN"
      },
      "source": [
        "Define some constants and train the MLP"
      ]
    },
    {
      "cell_type": "code",
      "metadata": {
        "id": "NBt-ReqIbUeR",
        "colab": {
          "base_uri": "https://localhost:8080/",
          "height": 374
        },
        "outputId": "b1e07312-0ddd-4a6c-a52d-c762dda98b1b"
      },
      "source": [
        "batch_size = 128\n",
        "n_epoch = 10\n",
        "\n",
        "model.compile(loss='categorical_crossentropy', optimizer=RMSprop(), metrics=['accuracy'])\n",
        "history = model.fit(X_train, Y_train,\n",
        "                    batch_size=batch_size, epochs=n_epoch,\n",
        "                    verbose=1, validation_data=(X_test, Y_test))"
      ],
      "execution_count": null,
      "outputs": [
        {
          "output_type": "stream",
          "text": [
            "Train on 60000 samples, validate on 10000 samples\n",
            "Epoch 1/10\n",
            "60000/60000 [==============================] - 3s 45us/step - loss: 0.2840 - acc: 0.9204 - val_loss: 0.1554 - val_acc: 0.9525\n",
            "Epoch 2/10\n",
            "60000/60000 [==============================] - 2s 41us/step - loss: 0.1220 - acc: 0.9641 - val_loss: 0.1051 - val_acc: 0.9703\n",
            "Epoch 3/10\n",
            "60000/60000 [==============================] - 2s 40us/step - loss: 0.0833 - acc: 0.9749 - val_loss: 0.0806 - val_acc: 0.9754\n",
            "Epoch 4/10\n",
            "60000/60000 [==============================] - 2s 41us/step - loss: 0.0616 - acc: 0.9820 - val_loss: 0.0801 - val_acc: 0.9765\n",
            "Epoch 5/10\n",
            "60000/60000 [==============================] - 3s 44us/step - loss: 0.0481 - acc: 0.9855 - val_loss: 0.0769 - val_acc: 0.9776\n",
            "Epoch 6/10\n",
            "60000/60000 [==============================] - 3s 44us/step - loss: 0.0377 - acc: 0.9887 - val_loss: 0.0667 - val_acc: 0.9795\n",
            "Epoch 7/10\n",
            "60000/60000 [==============================] - 2s 40us/step - loss: 0.0301 - acc: 0.9909 - val_loss: 0.0670 - val_acc: 0.9804\n",
            "Epoch 8/10\n",
            "60000/60000 [==============================] - 3s 43us/step - loss: 0.0243 - acc: 0.9930 - val_loss: 0.0700 - val_acc: 0.9802\n",
            "Epoch 9/10\n",
            "60000/60000 [==============================] - 2s 40us/step - loss: 0.0192 - acc: 0.9945 - val_loss: 0.0689 - val_acc: 0.9805\n",
            "Epoch 10/10\n",
            "60000/60000 [==============================] - 3s 42us/step - loss: 0.0156 - acc: 0.9957 - val_loss: 0.0789 - val_acc: 0.9772\n"
          ],
          "name": "stdout"
        }
      ]
    },
    {
      "cell_type": "markdown",
      "metadata": {
        "id": "7u_zpHr5bUeb"
      },
      "source": [
        "Show the performance of the model"
      ]
    },
    {
      "cell_type": "code",
      "metadata": {
        "id": "PHXi21E1bUef",
        "colab": {
          "base_uri": "https://localhost:8080/",
          "height": 299
        },
        "outputId": "b153b1ab-4795-4704-b1a3-f28d4d636043"
      },
      "source": [
        "pl.plot(history.history['loss'], label='Training')\n",
        "pl.plot(history.history['val_loss'], label='Testing')\n",
        "pl.legend()\n",
        "pl.grid()\n",
        "\n",
        "score = model.evaluate(X_test, Y_test, verbose=0)\n",
        "print('Test score:', score[0])\n",
        "print('Test accuracy:', score[1])"
      ],
      "execution_count": null,
      "outputs": [
        {
          "output_type": "stream",
          "text": [
            "Test score: 0.07893275586233067\n",
            "Test accuracy: 0.9772\n"
          ],
          "name": "stdout"
        },
        {
          "output_type": "display_data",
          "data": {
            "image/png": "[encoded data removed]",
            "text/plain": [
              "<Figure size 432x288 with 1 Axes>"
            ]
          },
          "metadata": {
            "tags": []
          }
        }
      ]
    },
    {
      "cell_type": "markdown",
      "metadata": {
        "id": "jLuFK6MobUet"
      },
      "source": [
        "Confusion matrix"
      ]
    },
    {
      "cell_type": "code",
      "metadata": {
        "id": "PAjwjjrjbUex",
        "colab": {
          "base_uri": "https://localhost:8080/",
          "height": 187
        },
        "outputId": "c96b6cf1-3bb9-4056-a6ec-0f20921828c3"
      },
      "source": [
        "pred = model.predict(X_test)\n",
        "pred = np.argmax(pred, axis=-1)\n",
        "me.confusion_matrix(y_test, pred)"
      ],
      "execution_count": null,
      "outputs": [
        {
          "output_type": "execute_result",
          "data": {
            "text/plain": [
              "array([[ 974,    0,    0,    1,    0,    1,    1,    1,    2,    0],\n",
              "       [   0, 1128,    1,    2,    0,    0,    2,    1,    1,    0],\n",
              "       [   7,    4,  990,    9,    2,    0,    2,   10,    8,    0],\n",
              "       [   2,    0,    0,  994,    0,    5,    0,    4,    1,    4],\n",
              "       [   2,    0,    1,    1,  961,    0,    4,    2,    0,   11],\n",
              "       [   3,    0,    0,    7,    0,  876,    2,    1,    2,    1],\n",
              "       [   7,    3,    1,    1,    4,    7,  935,    0,    0,    0],\n",
              "       [   1,    4,    6,    2,    0,    0,    0, 1007,    1,    7],\n",
              "       [  13,    0,    2,   11,    4,    8,    1,    3,  925,    7],\n",
              "       [   3,    3,    0,    5,    6,    5,    0,    4,    1,  982]])"
            ]
          },
          "metadata": {
            "tags": []
          },
          "execution_count": 12
        }
      ]
    }
  ]
}